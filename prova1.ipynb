{
  "nbformat": 4,
  "nbformat_minor": 0,
  "metadata": {
    "colab": {
      "provenance": [],
      "include_colab_link": true
    },
    "kernelspec": {
      "name": "python3",
      "display_name": "Python 3"
    },
    "language_info": {
      "name": "python"
    }
  },
  "cells": [
    {
      "cell_type": "markdown",
      "metadata": {
        "id": "view-in-github",
        "colab_type": "text"
      },
      "source": [
        "<a href=\"https://colab.research.google.com/github/nunzio998/REC-Energy-Management/blob/main/prova1.ipynb\" target=\"_parent\"><img src=\"https://colab.research.google.com/assets/colab-badge.svg\" alt=\"Open In Colab\"/></a>"
      ]
    },
    {
      "cell_type": "code",
      "execution_count": null,
      "metadata": {
        "id": "O_2CFW1p9BCx"
      },
      "outputs": [],
      "source": [
        "print(\"so bello :) \")"
      ]
    },
    {
      "cell_type": "code",
      "source": [
        "print(\"Ciao\")"
      ],
      "metadata": {
        "id": "rfpTqlqb9q4l"
      },
      "execution_count": null,
      "outputs": []
    },
    {
      "cell_type": "code",
      "source": [
        "print(\"IA è mia sorella\")"
      ],
      "metadata": {
        "id": "pgKwhLAP-N24"
      },
      "execution_count": null,
      "outputs": []
    },
    {
      "cell_type": "code",
      "source": [
        "print(\"ciao mondo\")"
      ],
      "metadata": {
        "id": "XXhpOQsU-cDC"
      },
      "execution_count": null,
      "outputs": []
    }
  ]
}