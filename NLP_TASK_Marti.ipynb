{
  "nbformat": 4,
  "nbformat_minor": 0,
  "metadata": {
    "colab": {
      "provenance": [],
      "authorship_tag": "ABX9TyO1WlAWjkJagS3IxOyWlRNS",
      "include_colab_link": true
    },
    "kernelspec": {
      "name": "python3",
      "display_name": "Python 3"
    },
    "language_info": {
      "name": "python"
    }
  },
  "cells": [
    {
      "cell_type": "markdown",
      "metadata": {
        "id": "view-in-github",
        "colab_type": "text"
      },
      "source": [
        "<a href=\"https://colab.research.google.com/github/nunzio998/REC-Energy-Management/blob/main/NLP_TASK_Marti.ipynb\" target=\"_parent\"><img src=\"https://colab.research.google.com/assets/colab-badge.svg\" alt=\"Open In Colab\"/></a>"
      ]
    },
    {
      "cell_type": "markdown",
      "source": [
        "#NLP TASK"
      ],
      "metadata": {
        "id": "UuZ7wq3Qx9FG"
      }
    },
    {
      "cell_type": "markdown",
      "source": [
        "###IMPORT"
      ],
      "metadata": {
        "id": "fAIClo5r4sXs"
      }
    },
    {
      "cell_type": "code",
      "execution_count": null,
      "metadata": {
        "id": "MBRq51xs4oL2"
      },
      "outputs": [],
      "source": [
        "import torch\n",
        "from transformers import BertTokenizer, BertForSequenceClassification, AdamW\n",
        "from torch.utils.data import DataLoader, Dataset\n",
        "import re"
      ]
    },
    {
      "cell_type": "markdown",
      "source": [
        "###LOAD DATASET"
      ],
      "metadata": {
        "id": "u1AbCSoI5AaR"
      }
    },
    {
      "cell_type": "code",
      "source": [
        "%%capture\n",
        "!pip install datasets"
      ],
      "metadata": {
        "id": "UbsmpINX6AcD"
      },
      "execution_count": null,
      "outputs": []
    },
    {
      "cell_type": "code",
      "source": [
        "# Load del dataset\n",
        "from datasets import load_dataset\n",
        "\n",
        "ds = load_dataset(\"big_patent\")"
      ],
      "metadata": {
        "colab": {
          "base_uri": "https://localhost:8080/",
          "height": 403,
          "referenced_widgets": [
            "5ca65655d2384ee2a6b085d6cb11e618",
            "0b8bd110d2e34739b105d10f0bf9e754",
            "3575cb7ac4fa4e348e3fea07c4caa818",
            "67d4cf76a5c1467faf2585a3d2fd045e",
            "91fd194a487e4e1a994693493de4df8e",
            "4f0b13730d974e8eb24b0372b4dcb1c7",
            "5c2570a34d454b8ca19561e6d153b481",
            "55b8fb0b00a340b1b6219064cbd1dc07",
            "349df75d8bd24911b37e9c6af7af68a3",
            "41e447b740b94366a993cc1c0e9b8464",
            "36d9acf936544cd3b40061fbc9e8ae17",
            "720dae5c788340c5a3940a0b4f43a5cf",
            "2ae2c1d934f047c4a8b92ed2de8d5457",
            "ce64501510fe4954860de707573fbaec",
            "82931e30982f4ab480574a9f2495f9ac",
            "260f0561e08248c08f3be4e29b1c9802",
            "73850c9bf828448bab1e5305a51dd92e",
            "3aa8478c9f4b4639921071e1c9e20781",
            "9176652bb3954c6f87c87e6100ea02a3",
            "0fb9373acdc74a488969e17bd7aecfcc",
            "3df412141caf4750ac62c54884ebf2a7",
            "4ac7cf14f364421f8af1b795068631de",
            "b123716e0d654d3da1534cbdf590eabe",
            "6aa5d372028e42c6b410cd4d8f8f6e59",
            "a49e3cf78c26422595f1a14c22accc3b",
            "3d6b9ac6fc3341238391cfe0f712712d",
            "64ec19c085764f308752defc0de23ea9",
            "8ca4f9c94c9c4b979e38602d00f7f360",
            "442a2f5bf64d4bb59dd3c35db44ac6d0",
            "1ae073ab161944bc93e7b7f914a7b812",
            "d37aea80371b4c798057b04d67b9870a",
            "e4f34db2cf784102963d8a56c4f5ab32",
            "34472070f745443098e165c011a20b26",
            "a5378126370a4906acf9822d06bad4d1",
            "8964045a9c1b477cbc6869d426695cc0",
            "e67fd73f9ef14cefa9d64132f2154aff",
            "887da0089e4f498c9d0f4fe3f1264ab5",
            "e0c1acd60e8a494495fd7eb2c38c74b2",
            "1265e2e9f4d04526be071241ab0d1a25",
            "0e6c9df1fa86454e8270e2505838cf2a",
            "5ec3b36b9f1e4c74b744d412a10dfdc1",
            "e8c86fca08d04a1cab69c423c28c1588",
            "297e9e8b395444c3901f787579bb7f30",
            "95fc64f477a349df82ac9be3ba9af864",
            "44d08f3685924d47bc212509309f906d",
            "8df95fa2240640aa8c2a5115d457c945",
            "b6c3470a97b74a9b97234b83faa13137",
            "b3186b920e974af18ddc7e7a6ed11fe9",
            "d7ac8b0c58464e2388ec9bed360a7552",
            "0fb2557d6b8c4a25ad498480e1a2f4e3",
            "e7d530e2c3e049d5a080a7d79440bc26",
            "c6e88463e17044349bfa3f5b3afb95ea",
            "d1340b418830477fb5772327fdcd628f",
            "884acd375efc44a49d83fb0500f72963",
            "db03147f4ee34077b05711ec0a3df094",
            "a4d3eaac31114762b5bb6d711827356f",
            "397d5ef0758e4c8d97931f46c9db96a5",
            "96a6ef57c27648ea8bbdd5d9c04fb4be",
            "7c1095c6ce3c4492afc546bed176e4de",
            "335a89735a514bc6bc6ccd05f736e1c4",
            "8c49e99e2cd741528b607926b2b69dc6",
            "c91d8f38492e42d29bd105494408de55",
            "b61d6ede24924e09985c2643a1bab1ec",
            "3aca887d6ad140ddb45716e4ac1aebea",
            "5367afcc094b42478e83422cea2e9ca1",
            "b7444c5e6bca4f90bf18ead62ab464d6"
          ]
        },
        "id": "2-lWRUXC4_rU",
        "outputId": "74fd2751-845f-49db-d970-0a70b42663fd"
      },
      "execution_count": null,
      "outputs": [
        {
          "output_type": "stream",
          "name": "stderr",
          "text": [
            "/usr/local/lib/python3.10/dist-packages/huggingface_hub/utils/_token.py:88: UserWarning: \n",
            "The secret `HF_TOKEN` does not exist in your Colab secrets.\n",
            "To authenticate with the Hugging Face Hub, create a token in your settings tab (https://huggingface.co/settings/tokens), set it as secret in your Google Colab and restart your session.\n",
            "You will be able to reuse this secret in all of your notebooks.\n",
            "Please note that authentication is recommended but still optional to access public models or datasets.\n",
            "  warnings.warn(\n",
            "/usr/local/lib/python3.10/dist-packages/datasets/load.py:1461: FutureWarning: The repository for big_patent contains custom code which must be executed to correctly load the dataset. You can inspect the repository content at https://hf.co/datasets/big_patent\n",
            "You can avoid this message in future by passing the argument `trust_remote_code=True`.\n",
            "Passing `trust_remote_code=True` will be mandatory to load this dataset from the next major release of `datasets`.\n",
            "  warnings.warn(\n"
          ]
        },
        {
          "output_type": "display_data",
          "data": {
            "text/plain": [
              "Downloading builder script:   0%|          | 0.00/5.50k [00:00<?, ?B/s]"
            ],
            "application/vnd.jupyter.widget-view+json": {
              "version_major": 2,
              "version_minor": 0,
              "model_id": "5ca65655d2384ee2a6b085d6cb11e618"
            }
          },
          "metadata": {}
        },
        {
          "output_type": "display_data",
          "data": {
            "text/plain": [
              "Downloading readme:   0%|          | 0.00/9.71k [00:00<?, ?B/s]"
            ],
            "application/vnd.jupyter.widget-view+json": {
              "version_major": 2,
              "version_minor": 0,
              "model_id": "720dae5c788340c5a3940a0b4f43a5cf"
            }
          },
          "metadata": {}
        },
        {
          "output_type": "display_data",
          "data": {
            "text/plain": [
              "Downloading data:   0%|          | 0.00/9.13G [00:00<?, ?B/s]"
            ],
            "application/vnd.jupyter.widget-view+json": {
              "version_major": 2,
              "version_minor": 0,
              "model_id": "b123716e0d654d3da1534cbdf590eabe"
            }
          },
          "metadata": {}
        },
        {
          "output_type": "display_data",
          "data": {
            "text/plain": [
              "Downloading data:   0%|          | 0.00/506M [00:00<?, ?B/s]"
            ],
            "application/vnd.jupyter.widget-view+json": {
              "version_major": 2,
              "version_minor": 0,
              "model_id": "a5378126370a4906acf9822d06bad4d1"
            }
          },
          "metadata": {}
        },
        {
          "output_type": "display_data",
          "data": {
            "text/plain": [
              "Downloading data:   0%|          | 0.00/508M [00:00<?, ?B/s]"
            ],
            "application/vnd.jupyter.widget-view+json": {
              "version_major": 2,
              "version_minor": 0,
              "model_id": "44d08f3685924d47bc212509309f906d"
            }
          },
          "metadata": {}
        },
        {
          "output_type": "display_data",
          "data": {
            "text/plain": [
              "Generating train split:   0%|          | 0/1207222 [00:00<?, ? examples/s]"
            ],
            "application/vnd.jupyter.widget-view+json": {
              "version_major": 2,
              "version_minor": 0,
              "model_id": "a4d3eaac31114762b5bb6d711827356f"
            }
          },
          "metadata": {}
        }
      ]
    },
    {
      "cell_type": "markdown",
      "source": [
        "###VISUALIZZAZIONE DATASET"
      ],
      "metadata": {
        "id": "tWt9b3Ta5IHX"
      }
    },
    {
      "cell_type": "code",
      "source": [
        "# Visualizzazione dataset\n",
        "print(ds)\n",
        "\n",
        "#Esplorazione dataset\n",
        "print(ds['train'].features)\n",
        "print(ds['train'].shape)\n",
        "\n",
        "# print(ds[\"test\"][\"description\"][1])\n",
        "# print(\"\\n\" + ds[\"test\"][\"abstract\"][1])"
      ],
      "metadata": {
        "colab": {
          "base_uri": "https://localhost:8080/"
        },
        "id": "42sq3xp05LPF",
        "outputId": "96217ab4-1274-4181-e3f0-7d171e3763c8"
      },
      "execution_count": null,
      "outputs": [
        {
          "output_type": "stream",
          "name": "stdout",
          "text": [
            "DatasetDict({\n",
            "    train: Dataset({\n",
            "        features: ['description', 'abstract'],\n",
            "        num_rows: 1207222\n",
            "    })\n",
            "    validation: Dataset({\n",
            "        features: ['description', 'abstract'],\n",
            "        num_rows: 67068\n",
            "    })\n",
            "    test: Dataset({\n",
            "        features: ['description', 'abstract'],\n",
            "        num_rows: 67072\n",
            "    })\n",
            "})\n"
          ]
        }
      ]
    },
    {
      "cell_type": "markdown",
      "source": [
        "###TEXT PREPROCESSING"
      ],
      "metadata": {
        "id": "3NGCkCCc5nLL"
      }
    },
    {
      "cell_type": "markdown",
      "source": [
        "TEXT CLEANING\n",
        "\n",
        "\n",
        "*   HTML tags\n",
        "*   punctuations by negating chars, spaces, and digits\n",
        "*   consecutive spaces\n",
        "\n",
        "\n",
        "\n"
      ],
      "metadata": {
        "id": "Ufp5Y6YaS1tP"
      }
    },
    {
      "cell_type": "code",
      "source": [
        "# Trattamento dei dati tramite regex\n",
        "\n",
        "#def noise_remover(text):\n",
        "    #text2 = re.sub('<[^>]*>', '', text)  # remove html tags\n",
        "    #text2 = re.sub('[^\\w\\s\\d]', ' ', text2)  # remove punctuations by negating chars, spaces, and digits\n",
        "    #text2 = re.sub('\\s+', ' ', text2)  # remove consecutive spaces\n",
        "    #print(text2)\n",
        "    #return text2\n",
        "\n",
        "def noise_remover(text):\n",
        "    text = re.sub('<[^>]*>', '', text)  # remove html tags\n",
        "    text = re.sub('[^\\w\\s\\d]', ' ', text)  # remove punctuations by negating chars, spaces, and digits\n",
        "    text = re.sub('\\s+', ' ', text)  # remove consecutive spaces\n",
        "    #print(text2)\n",
        "    return text\n",
        "\n",
        "# Rimozione rumore\n",
        "# Utilizzo tqdm per monitorare l'avanzamento\n",
        "\n",
        "#x_train_text_processed = []\n",
        "#for el in x_train_text:\n",
        "  #x_train_text_processed.append(noise_remover(el))\n",
        "\n",
        "x_validation_text_processed = []\n",
        "for el in x_validation_text:\n",
        "  x_validation_text_processed.append(noise_remover(el))\n",
        "\n",
        "#x_test_text_processed = []\n",
        "#for el in x_test_text:\n",
        "  #x_test_text_processed.append(noise_remover(el))\n",
        "\n",
        "\n",
        "#print(\"-----------\\n\" + x_test_text[1])"
      ],
      "metadata": {
        "id": "3Z_RyrMp5pE1"
      },
      "execution_count": null,
      "outputs": []
    },
    {
      "cell_type": "markdown",
      "source": [
        "TOKENIZZAZIONE"
      ],
      "metadata": {
        "id": "NUKXIy_ouY_A"
      }
    },
    {
      "cell_type": "code",
      "source": [
        "%%capture\n",
        "!pip install nltk"
      ],
      "metadata": {
        "id": "uQH_UlFeubOf"
      },
      "execution_count": null,
      "outputs": []
    },
    {
      "cell_type": "code",
      "source": [
        "import nltk\n",
        "from nltk.tokenize import word_tokenize\n",
        "# Download the Punkt tokenizer model\n",
        "nltk.download('punkt')\n",
        "\n",
        "#x_train_text_tokenized = []\n",
        "#for el in x_train_text_processed:\n",
        "  #x_train_text_tokenized.append(word_tokenize(el))\n",
        "\n",
        "#x_validation_text_tokenized = []\n",
        "#for el in x_validation_text_processed:\n",
        "  #x_validation_text_tokenized.append(word_tokenize(el))\n",
        "\n",
        "#x_test_text_tokenized = []\n",
        "#for el in x_test_text_processed:\n",
        "  #x_test_text_tokenized.append(word_tokenize(el))\n",
        "\n",
        "#print(x_validation_text_processed[1] + \"\\n---------------------------------------------------------\\n\")\n",
        "#print(x_validation_text_tokenized[1]) # print the list of tokens\n",
        "\n",
        "print(x_validation_text_processed[1])\n",
        "print(word_tokenize(x_validation_text_processed[1]))\n"
      ],
      "metadata": {
        "id": "IkqKqz_dwS4R",
        "outputId": "0633f889-07c1-4ae9-f24b-3e795bbe2753",
        "colab": {
          "base_uri": "https://localhost:8080/"
        }
      },
      "execution_count": null,
      "outputs": [
        {
          "output_type": "stream",
          "name": "stderr",
          "text": [
            "[nltk_data] Downloading package punkt to /root/nltk_data...\n",
            "[nltk_data]   Unzipping tokenizers/punkt.zip.\n"
          ]
        },
        {
          "output_type": "stream",
          "name": "stdout",
          "text": [
            "BACKGROUND OF THE INVENTION In fire trucks and similar apparatus it is common practice to provide a plurality of fire fighting agents that may be used selectively depending on the type of fire encountered For instance in some types of fire it is desirable to use a foam whereas with other types it is desirable to use a powder It is desirable to connect these two agents to a common nozzle so that the selection of agent may be made at the point of use The operator may wish to use the agents separately as experience dictates to extinguish the fire It is on occasion desirable to use both agents at the same time My U S Pat No 4 030 666 which issued on June 21 1977 shows a construction for performing these functions in response to a trigger mechanism It is desirable on occasion however to provide a very simple construction in which there are no small passages that can clog and interfere with the operation of the equipment and which present very little resistance to the flow of the fire fighting agent These and other difficulties experienced with the prior art devices have been obviated in a novel manner by the present invention It is therefore an outstanding object of the invention to provide a nozzle for selective use with two fire fighting agents Another object of this invention is the provision of a fire fighting nozzle with two valves and two tubes formed in a single structure A further object of the present invention is the provision of a dual agent nozzle which is simple in construction which is inexpensive to manufacture and which is capable of a long life of useful service with a minimum of maintenance It is another object of the instant invention to provide a dual agent nozzle having valves which present little resistance to the flow of material A still further object of the invention is the provision of a fire fighting nozzle in which the valves are so constructed that they may receive the pressure of fire fighting agents continuously and indefinitely without damage It is a further object of the invention to provide a dual agent fire fighting nozzle having valve elements that are not easily corroded by the agents used It is a still further object of the invention to provide a fire fighting nozzle which can be held by the operator in one hand while valve selectors are operated easily by the other hand It is another object to provide a dual action nozzle having double valves in which the 34 open 34 or 34 closed 34 condition of each valve is visually indicated by the operating handles With these and other objects in view as will be apparent to those skilled in the art the invention resides in the combination of parts set forth in the specification and covered by the claims appended hereto SUMMARY OF THE INVENTION In general the invention consists of a fire fighting nozzle having a main body with a pistol handle extending from the lower portion The main body has upper and lower passages extending through it in spacedparallel relationship A ball with a bore is located in each passage and mounted for rotation about a horizontal axis passing through the center of the ball perpendicular to the axis of the bore A lever is pivotally mounted at the upper portion of the main body for rotating each ball from an operative position where the bore is aligned with its passage to an inoperative position where the bore extends at a right angle to its passage Means is provided for connecting one end of each of the passages to one of two different fire fighting agents and a tube extends from the other end of each passage to serve as an exit for the agent More specifically the two levers are mounted side by side on a common pivotal axis which extends horizontally and is coincidental with the axis of rotation of the upper ball one of the levers being directly connected to that ball The other lever is connected by a gear train to the lower ball The levers have broad plates extending toward each other and have straight vertical edges that lie adjacent each other midway between the levers Each ball is provided with laterally extending journals which are carried in corresponding bores in the main body and a polymer seal is mounted in each passage in contact with its ball BRIEF DESCRIPTION OF THE DRAWINGS The character of the invention however may be best understood by reference to one of its structural forms as illustrated by the accompanying drawings in which FIG 1 is a perspective view of a fire fighting nozzle incorporating the principles of the present invention FIG 2 is a side view of the nozzle with portions broken way and FIG 3 is a sectional view of the nozzle taken on the line III III of FIG 2 DESCRIPTION OF THE PREFERRED EMBODIMENT Referring first to FIG 1 wherein are best shown the general features of the invention the fire fighting nozzle indicated generally by the reference numeral 10 is shown as having a main body 11 from the lower portion of which extends a pistol grip handle 12 On one side of the main body extend an upper and a lower exit tube 26 and 27 To the other side of the main body are attached hoses 22 and 23 which are connected to the main body by means of couplings 25 and 24 respectively The hose 22 is connected to a source of foam under pressure while the hose 23 is connected to a source of powder under pressure Pivotally mounted to the upper portion of the main body 11 are two levers 19 and 21 provided with broad plates 32 and 33 respectively Extending from the lower part of the lower tube 27 is a handle 44 which is joined by a connecting rod 45 to a regulating vane 46 at the exit end of the tube In FIGS 2 and 3 it can be seen that the main body 11 is provided with an upper passage 13 and a lower passage 14 these passages extending through the main body in spaced parallel relationship The passage 13 connects the coupling 24 to the tube 26 and the passage 14 connects the coupling 25 to the tube 27 A ball 15 is mounted in the passage 13 while a ball 16 is mounted in the passage 14 The ball 15 has a bore 17 while the ball 16 has a bore 18 extending through it each bore having an axis which is co incidental with the center of the ball Each ball is mounted for rotation about its own horizontal axis passing through the center of the ball and perpendicular to the axis of its bore The lever 21 which is pivotally mounted at the upper portion of the main body 11 is directly connected to the ball 15 for rotating the ball from an 34 operative 34 position wherein the bore 17 is aligned with the passage 13 to an 34 inoperative 34 position in which the bore is at a right angle to the passage Similarly the lever 19 is also pivotally mounted at the upper portion of the main body 11 and serves to rotate the ball 16 in the same way from an inoperative position to an operative position The two levers are mounted in side by side position and are pivoted on a common pivotal axis A A which extends horizontally at a right angle to the axis of the passage 13 More specifically the pivotal axis A A of the levers 19 and 21 is co incidental with the axis of rotation of the upper ball 15 and the lever 21 is directly connected to that ball The lever 19 is connected by a gear train consisting of gears 28 29 and 31 to the ball 16 The levers 19 and 21 are mounted on opposite sides of the main body 11 and extend upwardly therefrom The lever 19 has a plate 32 extending inwardly thereof while the lever 21 has a similar plate 32 extending inwardly These plates have vertical edges 34 and 35 respectively that lie in closely spaced parallel relationship The ball 15 is provided with laterally extending journals 36 and 37 which lie in a corresponding bore 38 which extends across the main body at a right angle to the passage 13 This journal consists of a large portion having a cylindrical surface provided with an O ring carried in the bore and a smaller portion which joins it to the ball 15 itself The ball 16 is similarly provided with journals 41 and 42 which lie in a bore 43 extending transversely across through the main body 11 at a right angle to the passage 14 The ball 16 is provided with a polymer seal 39 mounted in the passage 14 in contact with the ball and a similar seal not shown is provided for the upper ball 15 The operation and the advantages of the invention will now be readily understood in view of the above description During operation pressurized foam appears at the hose 22 at all times and is transmitted through the coupling 25 and the passage 14 and bore 18 to the tube 27 on occasion Similarly pressurized powder appears in the hose 23 and can be transmitted through the coupling 24 and the passage 13 and bore 17 to the tube 26 when desired When the levers 19 and 21 are in the rearmost position shown out of positing in the drawings the bores 17 and 18 are aligned with their passages 13 and 14 respectively and the fire fighting agent passes through When the lever 21 is rotated to its most forward position the bore 17 is rotated out of alignment with the passage and no agent can flow through the exit tube 26 The lever 21 is securely fastened to the outer end of the journal 36 so that the journal and the ball 15 rotate with the handle Similarly the rotation of the lever 19 operates through the trains of gears 28 29 and 31 to rotate the journal 42 and consequently the ball 16 This rotation causes the bore 18 to move out of alignment with the passage 14 so that agent cannot pass through into the tube 27 The broad surfaces of the plates 32 and 33 not only provide a suitable place for indicia to show the type of agent used but also provide for secure grasping of the lever even when the operator 39 s hands are slippery and act as a handle stop in the two directions The normal operation of the nozzle would be to grasp it by the handle 12 with the right hand and to operate the levers 19 and 21 with the left hand After the valves have been adjusted the handle 44 is grasped with the left hand which is also capable of adjusting the shape of the foam stream by operating through the connecting rod 45 to move the vane 46 It can be seen then that the present device involves very simple inexpensive equipment for accomplishing its purpose The fact that the levers 19 and 21 extend upwardly from the upper part of the main body 11 provides for convenient control of the operation allowing the operator to switch from one agent to another very readily or to operate with both agents together The passages are large and extend straight through the apparatus so that they are not easily subject to clogging Furthermore the parts can be readily disassembled for cleaning It is obvious that minor changes may be made in the construction of the invention without departing from the material spirit thereof It is not however desired to confine the invention to the exact form herein shown and described but it is desired to include all such as properly come within the scope claimed \n",
            "['BACKGROUND', 'OF', 'THE', 'INVENTION', 'In', 'fire', 'trucks', 'and', 'similar', 'apparatus', 'it', 'is', 'common', 'practice', 'to', 'provide', 'a', 'plurality', 'of', 'fire', 'fighting', 'agents', 'that', 'may', 'be', 'used', 'selectively', 'depending', 'on', 'the', 'type', 'of', 'fire', 'encountered', 'For', 'instance', 'in', 'some', 'types', 'of', 'fire', 'it', 'is', 'desirable', 'to', 'use', 'a', 'foam', 'whereas', 'with', 'other', 'types', 'it', 'is', 'desirable', 'to', 'use', 'a', 'powder', 'It', 'is', 'desirable', 'to', 'connect', 'these', 'two', 'agents', 'to', 'a', 'common', 'nozzle', 'so', 'that', 'the', 'selection', 'of', 'agent', 'may', 'be', 'made', 'at', 'the', 'point', 'of', 'use', 'The', 'operator', 'may', 'wish', 'to', 'use', 'the', 'agents', 'separately', 'as', 'experience', 'dictates', 'to', 'extinguish', 'the', 'fire', 'It', 'is', 'on', 'occasion', 'desirable', 'to', 'use', 'both', 'agents', 'at', 'the', 'same', 'time', 'My', 'U', 'S', 'Pat', 'No', '4', '030', '666', 'which', 'issued', 'on', 'June', '21', '1977', 'shows', 'a', 'construction', 'for', 'performing', 'these', 'functions', 'in', 'response', 'to', 'a', 'trigger', 'mechanism', 'It', 'is', 'desirable', 'on', 'occasion', 'however', 'to', 'provide', 'a', 'very', 'simple', 'construction', 'in', 'which', 'there', 'are', 'no', 'small', 'passages', 'that', 'can', 'clog', 'and', 'interfere', 'with', 'the', 'operation', 'of', 'the', 'equipment', 'and', 'which', 'present', 'very', 'little', 'resistance', 'to', 'the', 'flow', 'of', 'the', 'fire', 'fighting', 'agent', 'These', 'and', 'other', 'difficulties', 'experienced', 'with', 'the', 'prior', 'art', 'devices', 'have', 'been', 'obviated', 'in', 'a', 'novel', 'manner', 'by', 'the', 'present', 'invention', 'It', 'is', 'therefore', 'an', 'outstanding', 'object', 'of', 'the', 'invention', 'to', 'provide', 'a', 'nozzle', 'for', 'selective', 'use', 'with', 'two', 'fire', 'fighting', 'agents', 'Another', 'object', 'of', 'this', 'invention', 'is', 'the', 'provision', 'of', 'a', 'fire', 'fighting', 'nozzle', 'with', 'two', 'valves', 'and', 'two', 'tubes', 'formed', 'in', 'a', 'single', 'structure', 'A', 'further', 'object', 'of', 'the', 'present', 'invention', 'is', 'the', 'provision', 'of', 'a', 'dual', 'agent', 'nozzle', 'which', 'is', 'simple', 'in', 'construction', 'which', 'is', 'inexpensive', 'to', 'manufacture', 'and', 'which', 'is', 'capable', 'of', 'a', 'long', 'life', 'of', 'useful', 'service', 'with', 'a', 'minimum', 'of', 'maintenance', 'It', 'is', 'another', 'object', 'of', 'the', 'instant', 'invention', 'to', 'provide', 'a', 'dual', 'agent', 'nozzle', 'having', 'valves', 'which', 'present', 'little', 'resistance', 'to', 'the', 'flow', 'of', 'material', 'A', 'still', 'further', 'object', 'of', 'the', 'invention', 'is', 'the', 'provision', 'of', 'a', 'fire', 'fighting', 'nozzle', 'in', 'which', 'the', 'valves', 'are', 'so', 'constructed', 'that', 'they', 'may', 'receive', 'the', 'pressure', 'of', 'fire', 'fighting', 'agents', 'continuously', 'and', 'indefinitely', 'without', 'damage', 'It', 'is', 'a', 'further', 'object', 'of', 'the', 'invention', 'to', 'provide', 'a', 'dual', 'agent', 'fire', 'fighting', 'nozzle', 'having', 'valve', 'elements', 'that', 'are', 'not', 'easily', 'corroded', 'by', 'the', 'agents', 'used', 'It', 'is', 'a', 'still', 'further', 'object', 'of', 'the', 'invention', 'to', 'provide', 'a', 'fire', 'fighting', 'nozzle', 'which', 'can', 'be', 'held', 'by', 'the', 'operator', 'in', 'one', 'hand', 'while', 'valve', 'selectors', 'are', 'operated', 'easily', 'by', 'the', 'other', 'hand', 'It', 'is', 'another', 'object', 'to', 'provide', 'a', 'dual', 'action', 'nozzle', 'having', 'double', 'valves', 'in', 'which', 'the', '34', 'open', '34', 'or', '34', 'closed', '34', 'condition', 'of', 'each', 'valve', 'is', 'visually', 'indicated', 'by', 'the', 'operating', 'handles', 'With', 'these', 'and', 'other', 'objects', 'in', 'view', 'as', 'will', 'be', 'apparent', 'to', 'those', 'skilled', 'in', 'the', 'art', 'the', 'invention', 'resides', 'in', 'the', 'combination', 'of', 'parts', 'set', 'forth', 'in', 'the', 'specification', 'and', 'covered', 'by', 'the', 'claims', 'appended', 'hereto', 'SUMMARY', 'OF', 'THE', 'INVENTION', 'In', 'general', 'the', 'invention', 'consists', 'of', 'a', 'fire', 'fighting', 'nozzle', 'having', 'a', 'main', 'body', 'with', 'a', 'pistol', 'handle', 'extending', 'from', 'the', 'lower', 'portion', 'The', 'main', 'body', 'has', 'upper', 'and', 'lower', 'passages', 'extending', 'through', 'it', 'in', 'spacedparallel', 'relationship', 'A', 'ball', 'with', 'a', 'bore', 'is', 'located', 'in', 'each', 'passage', 'and', 'mounted', 'for', 'rotation', 'about', 'a', 'horizontal', 'axis', 'passing', 'through', 'the', 'center', 'of', 'the', 'ball', 'perpendicular', 'to', 'the', 'axis', 'of', 'the', 'bore', 'A', 'lever', 'is', 'pivotally', 'mounted', 'at', 'the', 'upper', 'portion', 'of', 'the', 'main', 'body', 'for', 'rotating', 'each', 'ball', 'from', 'an', 'operative', 'position', 'where', 'the', 'bore', 'is', 'aligned', 'with', 'its', 'passage', 'to', 'an', 'inoperative', 'position', 'where', 'the', 'bore', 'extends', 'at', 'a', 'right', 'angle', 'to', 'its', 'passage', 'Means', 'is', 'provided', 'for', 'connecting', 'one', 'end', 'of', 'each', 'of', 'the', 'passages', 'to', 'one', 'of', 'two', 'different', 'fire', 'fighting', 'agents', 'and', 'a', 'tube', 'extends', 'from', 'the', 'other', 'end', 'of', 'each', 'passage', 'to', 'serve', 'as', 'an', 'exit', 'for', 'the', 'agent', 'More', 'specifically', 'the', 'two', 'levers', 'are', 'mounted', 'side', 'by', 'side', 'on', 'a', 'common', 'pivotal', 'axis', 'which', 'extends', 'horizontally', 'and', 'is', 'coincidental', 'with', 'the', 'axis', 'of', 'rotation', 'of', 'the', 'upper', 'ball', 'one', 'of', 'the', 'levers', 'being', 'directly', 'connected', 'to', 'that', 'ball', 'The', 'other', 'lever', 'is', 'connected', 'by', 'a', 'gear', 'train', 'to', 'the', 'lower', 'ball', 'The', 'levers', 'have', 'broad', 'plates', 'extending', 'toward', 'each', 'other', 'and', 'have', 'straight', 'vertical', 'edges', 'that', 'lie', 'adjacent', 'each', 'other', 'midway', 'between', 'the', 'levers', 'Each', 'ball', 'is', 'provided', 'with', 'laterally', 'extending', 'journals', 'which', 'are', 'carried', 'in', 'corresponding', 'bores', 'in', 'the', 'main', 'body', 'and', 'a', 'polymer', 'seal', 'is', 'mounted', 'in', 'each', 'passage', 'in', 'contact', 'with', 'its', 'ball', 'BRIEF', 'DESCRIPTION', 'OF', 'THE', 'DRAWINGS', 'The', 'character', 'of', 'the', 'invention', 'however', 'may', 'be', 'best', 'understood', 'by', 'reference', 'to', 'one', 'of', 'its', 'structural', 'forms', 'as', 'illustrated', 'by', 'the', 'accompanying', 'drawings', 'in', 'which', 'FIG', '1', 'is', 'a', 'perspective', 'view', 'of', 'a', 'fire', 'fighting', 'nozzle', 'incorporating', 'the', 'principles', 'of', 'the', 'present', 'invention', 'FIG', '2', 'is', 'a', 'side', 'view', 'of', 'the', 'nozzle', 'with', 'portions', 'broken', 'way', 'and', 'FIG', '3', 'is', 'a', 'sectional', 'view', 'of', 'the', 'nozzle', 'taken', 'on', 'the', 'line', 'III', 'III', 'of', 'FIG', '2', 'DESCRIPTION', 'OF', 'THE', 'PREFERRED', 'EMBODIMENT', 'Referring', 'first', 'to', 'FIG', '1', 'wherein', 'are', 'best', 'shown', 'the', 'general', 'features', 'of', 'the', 'invention', 'the', 'fire', 'fighting', 'nozzle', 'indicated', 'generally', 'by', 'the', 'reference', 'numeral', '10', 'is', 'shown', 'as', 'having', 'a', 'main', 'body', '11', 'from', 'the', 'lower', 'portion', 'of', 'which', 'extends', 'a', 'pistol', 'grip', 'handle', '12', 'On', 'one', 'side', 'of', 'the', 'main', 'body', 'extend', 'an', 'upper', 'and', 'a', 'lower', 'exit', 'tube', '26', 'and', '27', 'To', 'the', 'other', 'side', 'of', 'the', 'main', 'body', 'are', 'attached', 'hoses', '22', 'and', '23', 'which', 'are', 'connected', 'to', 'the', 'main', 'body', 'by', 'means', 'of', 'couplings', '25', 'and', '24', 'respectively', 'The', 'hose', '22', 'is', 'connected', 'to', 'a', 'source', 'of', 'foam', 'under', 'pressure', 'while', 'the', 'hose', '23', 'is', 'connected', 'to', 'a', 'source', 'of', 'powder', 'under', 'pressure', 'Pivotally', 'mounted', 'to', 'the', 'upper', 'portion', 'of', 'the', 'main', 'body', '11', 'are', 'two', 'levers', '19', 'and', '21', 'provided', 'with', 'broad', 'plates', '32', 'and', '33', 'respectively', 'Extending', 'from', 'the', 'lower', 'part', 'of', 'the', 'lower', 'tube', '27', 'is', 'a', 'handle', '44', 'which', 'is', 'joined', 'by', 'a', 'connecting', 'rod', '45', 'to', 'a', 'regulating', 'vane', '46', 'at', 'the', 'exit', 'end', 'of', 'the', 'tube', 'In', 'FIGS', '2', 'and', '3', 'it', 'can', 'be', 'seen', 'that', 'the', 'main', 'body', '11', 'is', 'provided', 'with', 'an', 'upper', 'passage', '13', 'and', 'a', 'lower', 'passage', '14', 'these', 'passages', 'extending', 'through', 'the', 'main', 'body', 'in', 'spaced', 'parallel', 'relationship', 'The', 'passage', '13', 'connects', 'the', 'coupling', '24', 'to', 'the', 'tube', '26', 'and', 'the', 'passage', '14', 'connects', 'the', 'coupling', '25', 'to', 'the', 'tube', '27', 'A', 'ball', '15', 'is', 'mounted', 'in', 'the', 'passage', '13', 'while', 'a', 'ball', '16', 'is', 'mounted', 'in', 'the', 'passage', '14', 'The', 'ball', '15', 'has', 'a', 'bore', '17', 'while', 'the', 'ball', '16', 'has', 'a', 'bore', '18', 'extending', 'through', 'it', 'each', 'bore', 'having', 'an', 'axis', 'which', 'is', 'co', 'incidental', 'with', 'the', 'center', 'of', 'the', 'ball', 'Each', 'ball', 'is', 'mounted', 'for', 'rotation', 'about', 'its', 'own', 'horizontal', 'axis', 'passing', 'through', 'the', 'center', 'of', 'the', 'ball', 'and', 'perpendicular', 'to', 'the', 'axis', 'of', 'its', 'bore', 'The', 'lever', '21', 'which', 'is', 'pivotally', 'mounted', 'at', 'the', 'upper', 'portion', 'of', 'the', 'main', 'body', '11', 'is', 'directly', 'connected', 'to', 'the', 'ball', '15', 'for', 'rotating', 'the', 'ball', 'from', 'an', '34', 'operative', '34', 'position', 'wherein', 'the', 'bore', '17', 'is', 'aligned', 'with', 'the', 'passage', '13', 'to', 'an', '34', 'inoperative', '34', 'position', 'in', 'which', 'the', 'bore', 'is', 'at', 'a', 'right', 'angle', 'to', 'the', 'passage', 'Similarly', 'the', 'lever', '19', 'is', 'also', 'pivotally', 'mounted', 'at', 'the', 'upper', 'portion', 'of', 'the', 'main', 'body', '11', 'and', 'serves', 'to', 'rotate', 'the', 'ball', '16', 'in', 'the', 'same', 'way', 'from', 'an', 'inoperative', 'position', 'to', 'an', 'operative', 'position', 'The', 'two', 'levers', 'are', 'mounted', 'in', 'side', 'by', 'side', 'position', 'and', 'are', 'pivoted', 'on', 'a', 'common', 'pivotal', 'axis', 'A', 'A', 'which', 'extends', 'horizontally', 'at', 'a', 'right', 'angle', 'to', 'the', 'axis', 'of', 'the', 'passage', '13', 'More', 'specifically', 'the', 'pivotal', 'axis', 'A', 'A', 'of', 'the', 'levers', '19', 'and', '21', 'is', 'co', 'incidental', 'with', 'the', 'axis', 'of', 'rotation', 'of', 'the', 'upper', 'ball', '15', 'and', 'the', 'lever', '21', 'is', 'directly', 'connected', 'to', 'that', 'ball', 'The', 'lever', '19', 'is', 'connected', 'by', 'a', 'gear', 'train', 'consisting', 'of', 'gears', '28', '29', 'and', '31', 'to', 'the', 'ball', '16', 'The', 'levers', '19', 'and', '21', 'are', 'mounted', 'on', 'opposite', 'sides', 'of', 'the', 'main', 'body', '11', 'and', 'extend', 'upwardly', 'therefrom', 'The', 'lever', '19', 'has', 'a', 'plate', '32', 'extending', 'inwardly', 'thereof', 'while', 'the', 'lever', '21', 'has', 'a', 'similar', 'plate', '32', 'extending', 'inwardly', 'These', 'plates', 'have', 'vertical', 'edges', '34', 'and', '35', 'respectively', 'that', 'lie', 'in', 'closely', 'spaced', 'parallel', 'relationship', 'The', 'ball', '15', 'is', 'provided', 'with', 'laterally', 'extending', 'journals', '36', 'and', '37', 'which', 'lie', 'in', 'a', 'corresponding', 'bore', '38', 'which', 'extends', 'across', 'the', 'main', 'body', 'at', 'a', 'right', 'angle', 'to', 'the', 'passage', '13', 'This', 'journal', 'consists', 'of', 'a', 'large', 'portion', 'having', 'a', 'cylindrical', 'surface', 'provided', 'with', 'an', 'O', 'ring', 'carried', 'in', 'the', 'bore', 'and', 'a', 'smaller', 'portion', 'which', 'joins', 'it', 'to', 'the', 'ball', '15', 'itself', 'The', 'ball', '16', 'is', 'similarly', 'provided', 'with', 'journals', '41', 'and', '42', 'which', 'lie', 'in', 'a', 'bore', '43', 'extending', 'transversely', 'across', 'through', 'the', 'main', 'body', '11', 'at', 'a', 'right', 'angle', 'to', 'the', 'passage', '14', 'The', 'ball', '16', 'is', 'provided', 'with', 'a', 'polymer', 'seal', '39', 'mounted', 'in', 'the', 'passage', '14', 'in', 'contact', 'with', 'the', 'ball', 'and', 'a', 'similar', 'seal', 'not', 'shown', 'is', 'provided', 'for', 'the', 'upper', 'ball', '15', 'The', 'operation', 'and', 'the', 'advantages', 'of', 'the', 'invention', 'will', 'now', 'be', 'readily', 'understood', 'in', 'view', 'of', 'the', 'above', 'description', 'During', 'operation', 'pressurized', 'foam', 'appears', 'at', 'the', 'hose', '22', 'at', 'all', 'times', 'and', 'is', 'transmitted', 'through', 'the', 'coupling', '25', 'and', 'the', 'passage', '14', 'and', 'bore', '18', 'to', 'the', 'tube', '27', 'on', 'occasion', 'Similarly', 'pressurized', 'powder', 'appears', 'in', 'the', 'hose', '23', 'and', 'can', 'be', 'transmitted', 'through', 'the', 'coupling', '24', 'and', 'the', 'passage', '13', 'and', 'bore', '17', 'to', 'the', 'tube', '26', 'when', 'desired', 'When', 'the', 'levers', '19', 'and', '21', 'are', 'in', 'the', 'rearmost', 'position', 'shown', 'out', 'of', 'positing', 'in', 'the', 'drawings', 'the', 'bores', '17', 'and', '18', 'are', 'aligned', 'with', 'their', 'passages', '13', 'and', '14', 'respectively', 'and', 'the', 'fire', 'fighting', 'agent', 'passes', 'through', 'When', 'the', 'lever', '21', 'is', 'rotated', 'to', 'its', 'most', 'forward', 'position', 'the', 'bore', '17', 'is', 'rotated', 'out', 'of', 'alignment', 'with', 'the', 'passage', 'and', 'no', 'agent', 'can', 'flow', 'through', 'the', 'exit', 'tube', '26', 'The', 'lever', '21', 'is', 'securely', 'fastened', 'to', 'the', 'outer', 'end', 'of', 'the', 'journal', '36', 'so', 'that', 'the', 'journal', 'and', 'the', 'ball', '15', 'rotate', 'with', 'the', 'handle', 'Similarly', 'the', 'rotation', 'of', 'the', 'lever', '19', 'operates', 'through', 'the', 'trains', 'of', 'gears', '28', '29', 'and', '31', 'to', 'rotate', 'the', 'journal', '42', 'and', 'consequently', 'the', 'ball', '16', 'This', 'rotation', 'causes', 'the', 'bore', '18', 'to', 'move', 'out', 'of', 'alignment', 'with', 'the', 'passage', '14', 'so', 'that', 'agent', 'can', 'not', 'pass', 'through', 'into', 'the', 'tube', '27', 'The', 'broad', 'surfaces', 'of', 'the', 'plates', '32', 'and', '33', 'not', 'only', 'provide', 'a', 'suitable', 'place', 'for', 'indicia', 'to', 'show', 'the', 'type', 'of', 'agent', 'used', 'but', 'also', 'provide', 'for', 'secure', 'grasping', 'of', 'the', 'lever', 'even', 'when', 'the', 'operator', '39', 's', 'hands', 'are', 'slippery', 'and', 'act', 'as', 'a', 'handle', 'stop', 'in', 'the', 'two', 'directions', 'The', 'normal', 'operation', 'of', 'the', 'nozzle', 'would', 'be', 'to', 'grasp', 'it', 'by', 'the', 'handle', '12', 'with', 'the', 'right', 'hand', 'and', 'to', 'operate', 'the', 'levers', '19', 'and', '21', 'with', 'the', 'left', 'hand', 'After', 'the', 'valves', 'have', 'been', 'adjusted', 'the', 'handle', '44', 'is', 'grasped', 'with', 'the', 'left', 'hand', 'which', 'is', 'also', 'capable', 'of', 'adjusting', 'the', 'shape', 'of', 'the', 'foam', 'stream', 'by', 'operating', 'through', 'the', 'connecting', 'rod', '45', 'to', 'move', 'the', 'vane', '46', 'It', 'can', 'be', 'seen', 'then', 'that', 'the', 'present', 'device', 'involves', 'very', 'simple', 'inexpensive', 'equipment', 'for', 'accomplishing', 'its', 'purpose', 'The', 'fact', 'that', 'the', 'levers', '19', 'and', '21', 'extend', 'upwardly', 'from', 'the', 'upper', 'part', 'of', 'the', 'main', 'body', '11', 'provides', 'for', 'convenient', 'control', 'of', 'the', 'operation', 'allowing', 'the', 'operator', 'to', 'switch', 'from', 'one', 'agent', 'to', 'another', 'very', 'readily', 'or', 'to', 'operate', 'with', 'both', 'agents', 'together', 'The', 'passages', 'are', 'large', 'and', 'extend', 'straight', 'through', 'the', 'apparatus', 'so', 'that', 'they', 'are', 'not', 'easily', 'subject', 'to', 'clogging', 'Furthermore', 'the', 'parts', 'can', 'be', 'readily', 'disassembled', 'for', 'cleaning', 'It', 'is', 'obvious', 'that', 'minor', 'changes', 'may', 'be', 'made', 'in', 'the', 'construction', 'of', 'the', 'invention', 'without', 'departing', 'from', 'the', 'material', 'spirit', 'thereof', 'It', 'is', 'not', 'however', 'desired', 'to', 'confine', 'the', 'invention', 'to', 'the', 'exact', 'form', 'herein', 'shown', 'and', 'described', 'but', 'it', 'is', 'desired', 'to', 'include', 'all', 'such', 'as', 'properly', 'come', 'within', 'the', 'scope', 'claimed']\n"
          ]
        }
      ]
    },
    {
      "cell_type": "markdown",
      "source": [
        "###TEXT NORMALIZATION:\n",
        "Lowercasing, Stemming, Lemmatization and Stop Words Removal"
      ],
      "metadata": {
        "id": "lZvNTFcYT9EM"
      }
    },
    {
      "cell_type": "code",
      "source": [
        "#STOP WORDS REMOVAL\n",
        "\n",
        "import nltk\n",
        "nltk.download('stopwords') # Download the stopwords module\n",
        "\n",
        "stopwords = nltk.corpus.stopwords.words(\n",
        "    \"english\"\n",
        ") # Get the list of stop words for English\n",
        "\n",
        "len(stopwords), stopwords[:10] # print stopwords\n",
        "\n"
      ],
      "metadata": {
        "id": "lww4BfenUD-F",
        "colab": {
          "base_uri": "https://localhost:8080/"
        },
        "outputId": "624d1582-7e07-4ea7-b814-b34817d7f941"
      },
      "execution_count": null,
      "outputs": [
        {
          "output_type": "stream",
          "name": "stderr",
          "text": [
            "[nltk_data] Downloading package stopwords to /root/nltk_data...\n",
            "[nltk_data]   Unzipping corpora/stopwords.zip.\n"
          ]
        },
        {
          "output_type": "execute_result",
          "data": {
            "text/plain": [
              "(179,\n",
              " ['i',\n",
              "  'me',\n",
              "  'my',\n",
              "  'myself',\n",
              "  'we',\n",
              "  'our',\n",
              "  'ours',\n",
              "  'ourselves',\n",
              "  'you',\n",
              "  \"you're\"])"
            ]
          },
          "metadata": {},
          "execution_count": 9
        }
      ]
    },
    {
      "cell_type": "code",
      "source": [
        "# LEMMATIZATION\n",
        "\n",
        "from nltk import WordNetLemmatizer\n",
        "nltk.download('wordnet') # Download the wordnet resource\n",
        "\n",
        "# create an object of class LancasterStemmer\n",
        "wnet_lemma = WordNetLemmatizer()\n",
        "\n",
        "#x_train_text_lemmatized = []\n",
        "#for el in x_train_text_processed:\n",
        "  #lemma_tokens = [\n",
        "            #wnet_lemma.lemmatize(token.lower())  # Lemmatization\n",
        "            #for token in word_tokenize(el)  # Tokenize\n",
        "            #if token.lower() not in stopwords  # Stopwords removals\n",
        "        #]\n",
        "  #x_train_text_lemmatized.append(lemma_tokens\n",
        "\n",
        "#x_validation_text_lemmatized = []\n",
        "#for el in x_validation_text_processed:\n",
        "  #lemma_tokens = [\n",
        "            #wnet_lemma.lemmatize(token.lower())  # Lemmatization\n",
        "            #for token in word_tokenize(el)  # Tokenize\n",
        "            #if token.lower() not in stopwords  # Stopwords removals\n",
        "        #]\n",
        "  #x_validation_text_lemmatized.append(lemma_tokens)\n",
        "\n",
        "  #print(x_validation_text_tokenized[1] + \"\\n---------------------------------------------------------\\n\")\n",
        "  #print(x_validation_text_lemmatized[1])\n",
        "\n",
        "#x_test_text_lemmatized = []\n",
        "#for el in x_test_text_processed:\n",
        "  #lemma_tokens = [\n",
        "            #wnet_lemma.lemmatize(token.lower())  # Lemmatization\n",
        "            #for token in word_tokenize(el)  # Tokenize\n",
        "            #if token.lower() not in stopwords  # Stopwords removals\n",
        "        #]\n",
        "  #x_test_text_lemmatized.append(lemma_tokens)\n",
        "\n",
        "\n",
        "lemma_tokens = [\n",
        "            wnet_lemma.lemmatize(token.lower())  # Lemmatization\n",
        "            for token in word_tokenize(x_validation_text_processed[1])  # Tokenize\n",
        "            if token.lower() not in stopwords  # Stopwords removals\n",
        "        ]\n",
        "print(x_validation_text_processed[1])\n",
        "print(lemma_tokens)"
      ],
      "metadata": {
        "id": "weJcyO5esBtm",
        "colab": {
          "base_uri": "https://localhost:8080/"
        },
        "outputId": "bd95397a-7505-4eb3-d69c-512d786ef087"
      },
      "execution_count": null,
      "outputs": [
        {
          "output_type": "stream",
          "name": "stderr",
          "text": [
            "[nltk_data] Downloading package wordnet to /root/nltk_data...\n"
          ]
        },
        {
          "output_type": "stream",
          "name": "stdout",
          "text": [
            "BACKGROUND OF THE INVENTION In fire trucks and similar apparatus it is common practice to provide a plurality of fire fighting agents that may be used selectively depending on the type of fire encountered For instance in some types of fire it is desirable to use a foam whereas with other types it is desirable to use a powder It is desirable to connect these two agents to a common nozzle so that the selection of agent may be made at the point of use The operator may wish to use the agents separately as experience dictates to extinguish the fire It is on occasion desirable to use both agents at the same time My U S Pat No 4 030 666 which issued on June 21 1977 shows a construction for performing these functions in response to a trigger mechanism It is desirable on occasion however to provide a very simple construction in which there are no small passages that can clog and interfere with the operation of the equipment and which present very little resistance to the flow of the fire fighting agent These and other difficulties experienced with the prior art devices have been obviated in a novel manner by the present invention It is therefore an outstanding object of the invention to provide a nozzle for selective use with two fire fighting agents Another object of this invention is the provision of a fire fighting nozzle with two valves and two tubes formed in a single structure A further object of the present invention is the provision of a dual agent nozzle which is simple in construction which is inexpensive to manufacture and which is capable of a long life of useful service with a minimum of maintenance It is another object of the instant invention to provide a dual agent nozzle having valves which present little resistance to the flow of material A still further object of the invention is the provision of a fire fighting nozzle in which the valves are so constructed that they may receive the pressure of fire fighting agents continuously and indefinitely without damage It is a further object of the invention to provide a dual agent fire fighting nozzle having valve elements that are not easily corroded by the agents used It is a still further object of the invention to provide a fire fighting nozzle which can be held by the operator in one hand while valve selectors are operated easily by the other hand It is another object to provide a dual action nozzle having double valves in which the 34 open 34 or 34 closed 34 condition of each valve is visually indicated by the operating handles With these and other objects in view as will be apparent to those skilled in the art the invention resides in the combination of parts set forth in the specification and covered by the claims appended hereto SUMMARY OF THE INVENTION In general the invention consists of a fire fighting nozzle having a main body with a pistol handle extending from the lower portion The main body has upper and lower passages extending through it in spacedparallel relationship A ball with a bore is located in each passage and mounted for rotation about a horizontal axis passing through the center of the ball perpendicular to the axis of the bore A lever is pivotally mounted at the upper portion of the main body for rotating each ball from an operative position where the bore is aligned with its passage to an inoperative position where the bore extends at a right angle to its passage Means is provided for connecting one end of each of the passages to one of two different fire fighting agents and a tube extends from the other end of each passage to serve as an exit for the agent More specifically the two levers are mounted side by side on a common pivotal axis which extends horizontally and is coincidental with the axis of rotation of the upper ball one of the levers being directly connected to that ball The other lever is connected by a gear train to the lower ball The levers have broad plates extending toward each other and have straight vertical edges that lie adjacent each other midway between the levers Each ball is provided with laterally extending journals which are carried in corresponding bores in the main body and a polymer seal is mounted in each passage in contact with its ball BRIEF DESCRIPTION OF THE DRAWINGS The character of the invention however may be best understood by reference to one of its structural forms as illustrated by the accompanying drawings in which FIG 1 is a perspective view of a fire fighting nozzle incorporating the principles of the present invention FIG 2 is a side view of the nozzle with portions broken way and FIG 3 is a sectional view of the nozzle taken on the line III III of FIG 2 DESCRIPTION OF THE PREFERRED EMBODIMENT Referring first to FIG 1 wherein are best shown the general features of the invention the fire fighting nozzle indicated generally by the reference numeral 10 is shown as having a main body 11 from the lower portion of which extends a pistol grip handle 12 On one side of the main body extend an upper and a lower exit tube 26 and 27 To the other side of the main body are attached hoses 22 and 23 which are connected to the main body by means of couplings 25 and 24 respectively The hose 22 is connected to a source of foam under pressure while the hose 23 is connected to a source of powder under pressure Pivotally mounted to the upper portion of the main body 11 are two levers 19 and 21 provided with broad plates 32 and 33 respectively Extending from the lower part of the lower tube 27 is a handle 44 which is joined by a connecting rod 45 to a regulating vane 46 at the exit end of the tube In FIGS 2 and 3 it can be seen that the main body 11 is provided with an upper passage 13 and a lower passage 14 these passages extending through the main body in spaced parallel relationship The passage 13 connects the coupling 24 to the tube 26 and the passage 14 connects the coupling 25 to the tube 27 A ball 15 is mounted in the passage 13 while a ball 16 is mounted in the passage 14 The ball 15 has a bore 17 while the ball 16 has a bore 18 extending through it each bore having an axis which is co incidental with the center of the ball Each ball is mounted for rotation about its own horizontal axis passing through the center of the ball and perpendicular to the axis of its bore The lever 21 which is pivotally mounted at the upper portion of the main body 11 is directly connected to the ball 15 for rotating the ball from an 34 operative 34 position wherein the bore 17 is aligned with the passage 13 to an 34 inoperative 34 position in which the bore is at a right angle to the passage Similarly the lever 19 is also pivotally mounted at the upper portion of the main body 11 and serves to rotate the ball 16 in the same way from an inoperative position to an operative position The two levers are mounted in side by side position and are pivoted on a common pivotal axis A A which extends horizontally at a right angle to the axis of the passage 13 More specifically the pivotal axis A A of the levers 19 and 21 is co incidental with the axis of rotation of the upper ball 15 and the lever 21 is directly connected to that ball The lever 19 is connected by a gear train consisting of gears 28 29 and 31 to the ball 16 The levers 19 and 21 are mounted on opposite sides of the main body 11 and extend upwardly therefrom The lever 19 has a plate 32 extending inwardly thereof while the lever 21 has a similar plate 32 extending inwardly These plates have vertical edges 34 and 35 respectively that lie in closely spaced parallel relationship The ball 15 is provided with laterally extending journals 36 and 37 which lie in a corresponding bore 38 which extends across the main body at a right angle to the passage 13 This journal consists of a large portion having a cylindrical surface provided with an O ring carried in the bore and a smaller portion which joins it to the ball 15 itself The ball 16 is similarly provided with journals 41 and 42 which lie in a bore 43 extending transversely across through the main body 11 at a right angle to the passage 14 The ball 16 is provided with a polymer seal 39 mounted in the passage 14 in contact with the ball and a similar seal not shown is provided for the upper ball 15 The operation and the advantages of the invention will now be readily understood in view of the above description During operation pressurized foam appears at the hose 22 at all times and is transmitted through the coupling 25 and the passage 14 and bore 18 to the tube 27 on occasion Similarly pressurized powder appears in the hose 23 and can be transmitted through the coupling 24 and the passage 13 and bore 17 to the tube 26 when desired When the levers 19 and 21 are in the rearmost position shown out of positing in the drawings the bores 17 and 18 are aligned with their passages 13 and 14 respectively and the fire fighting agent passes through When the lever 21 is rotated to its most forward position the bore 17 is rotated out of alignment with the passage and no agent can flow through the exit tube 26 The lever 21 is securely fastened to the outer end of the journal 36 so that the journal and the ball 15 rotate with the handle Similarly the rotation of the lever 19 operates through the trains of gears 28 29 and 31 to rotate the journal 42 and consequently the ball 16 This rotation causes the bore 18 to move out of alignment with the passage 14 so that agent cannot pass through into the tube 27 The broad surfaces of the plates 32 and 33 not only provide a suitable place for indicia to show the type of agent used but also provide for secure grasping of the lever even when the operator 39 s hands are slippery and act as a handle stop in the two directions The normal operation of the nozzle would be to grasp it by the handle 12 with the right hand and to operate the levers 19 and 21 with the left hand After the valves have been adjusted the handle 44 is grasped with the left hand which is also capable of adjusting the shape of the foam stream by operating through the connecting rod 45 to move the vane 46 It can be seen then that the present device involves very simple inexpensive equipment for accomplishing its purpose The fact that the levers 19 and 21 extend upwardly from the upper part of the main body 11 provides for convenient control of the operation allowing the operator to switch from one agent to another very readily or to operate with both agents together The passages are large and extend straight through the apparatus so that they are not easily subject to clogging Furthermore the parts can be readily disassembled for cleaning It is obvious that minor changes may be made in the construction of the invention without departing from the material spirit thereof It is not however desired to confine the invention to the exact form herein shown and described but it is desired to include all such as properly come within the scope claimed \n",
            "['background', 'invention', 'fire', 'truck', 'similar', 'apparatus', 'common', 'practice', 'provide', 'plurality', 'fire', 'fighting', 'agent', 'may', 'used', 'selectively', 'depending', 'type', 'fire', 'encountered', 'instance', 'type', 'fire', 'desirable', 'use', 'foam', 'whereas', 'type', 'desirable', 'use', 'powder', 'desirable', 'connect', 'two', 'agent', 'common', 'nozzle', 'selection', 'agent', 'may', 'made', 'point', 'use', 'operator', 'may', 'wish', 'use', 'agent', 'separately', 'experience', 'dictate', 'extinguish', 'fire', 'occasion', 'desirable', 'use', 'agent', 'time', 'u', 'pat', '4', '030', '666', 'issued', 'june', '21', '1977', 'show', 'construction', 'performing', 'function', 'response', 'trigger', 'mechanism', 'desirable', 'occasion', 'however', 'provide', 'simple', 'construction', 'small', 'passage', 'clog', 'interfere', 'operation', 'equipment', 'present', 'little', 'resistance', 'flow', 'fire', 'fighting', 'agent', 'difficulty', 'experienced', 'prior', 'art', 'device', 'obviated', 'novel', 'manner', 'present', 'invention', 'therefore', 'outstanding', 'object', 'invention', 'provide', 'nozzle', 'selective', 'use', 'two', 'fire', 'fighting', 'agent', 'another', 'object', 'invention', 'provision', 'fire', 'fighting', 'nozzle', 'two', 'valve', 'two', 'tube', 'formed', 'single', 'structure', 'object', 'present', 'invention', 'provision', 'dual', 'agent', 'nozzle', 'simple', 'construction', 'inexpensive', 'manufacture', 'capable', 'long', 'life', 'useful', 'service', 'minimum', 'maintenance', 'another', 'object', 'instant', 'invention', 'provide', 'dual', 'agent', 'nozzle', 'valve', 'present', 'little', 'resistance', 'flow', 'material', 'still', 'object', 'invention', 'provision', 'fire', 'fighting', 'nozzle', 'valve', 'constructed', 'may', 'receive', 'pressure', 'fire', 'fighting', 'agent', 'continuously', 'indefinitely', 'without', 'damage', 'object', 'invention', 'provide', 'dual', 'agent', 'fire', 'fighting', 'nozzle', 'valve', 'element', 'easily', 'corroded', 'agent', 'used', 'still', 'object', 'invention', 'provide', 'fire', 'fighting', 'nozzle', 'held', 'operator', 'one', 'hand', 'valve', 'selector', 'operated', 'easily', 'hand', 'another', 'object', 'provide', 'dual', 'action', 'nozzle', 'double', 'valve', '34', 'open', '34', '34', 'closed', '34', 'condition', 'valve', 'visually', 'indicated', 'operating', 'handle', 'object', 'view', 'apparent', 'skilled', 'art', 'invention', 'resides', 'combination', 'part', 'set', 'forth', 'specification', 'covered', 'claim', 'appended', 'hereto', 'summary', 'invention', 'general', 'invention', 'consists', 'fire', 'fighting', 'nozzle', 'main', 'body', 'pistol', 'handle', 'extending', 'lower', 'portion', 'main', 'body', 'upper', 'lower', 'passage', 'extending', 'spacedparallel', 'relationship', 'ball', 'bore', 'located', 'passage', 'mounted', 'rotation', 'horizontal', 'axis', 'passing', 'center', 'ball', 'perpendicular', 'axis', 'bore', 'lever', 'pivotally', 'mounted', 'upper', 'portion', 'main', 'body', 'rotating', 'ball', 'operative', 'position', 'bore', 'aligned', 'passage', 'inoperative', 'position', 'bore', 'extends', 'right', 'angle', 'passage', 'mean', 'provided', 'connecting', 'one', 'end', 'passage', 'one', 'two', 'different', 'fire', 'fighting', 'agent', 'tube', 'extends', 'end', 'passage', 'serve', 'exit', 'agent', 'specifically', 'two', 'lever', 'mounted', 'side', 'side', 'common', 'pivotal', 'axis', 'extends', 'horizontally', 'coincidental', 'axis', 'rotation', 'upper', 'ball', 'one', 'lever', 'directly', 'connected', 'ball', 'lever', 'connected', 'gear', 'train', 'lower', 'ball', 'lever', 'broad', 'plate', 'extending', 'toward', 'straight', 'vertical', 'edge', 'lie', 'adjacent', 'midway', 'lever', 'ball', 'provided', 'laterally', 'extending', 'journal', 'carried', 'corresponding', 'bore', 'main', 'body', 'polymer', 'seal', 'mounted', 'passage', 'contact', 'ball', 'brief', 'description', 'drawing', 'character', 'invention', 'however', 'may', 'best', 'understood', 'reference', 'one', 'structural', 'form', 'illustrated', 'accompanying', 'drawing', 'fig', '1', 'perspective', 'view', 'fire', 'fighting', 'nozzle', 'incorporating', 'principle', 'present', 'invention', 'fig', '2', 'side', 'view', 'nozzle', 'portion', 'broken', 'way', 'fig', '3', 'sectional', 'view', 'nozzle', 'taken', 'line', 'iii', 'iii', 'fig', '2', 'description', 'preferred', 'embodiment', 'referring', 'first', 'fig', '1', 'wherein', 'best', 'shown', 'general', 'feature', 'invention', 'fire', 'fighting', 'nozzle', 'indicated', 'generally', 'reference', 'numeral', '10', 'shown', 'main', 'body', '11', 'lower', 'portion', 'extends', 'pistol', 'grip', 'handle', '12', 'one', 'side', 'main', 'body', 'extend', 'upper', 'lower', 'exit', 'tube', '26', '27', 'side', 'main', 'body', 'attached', 'hose', '22', '23', 'connected', 'main', 'body', 'mean', 'coupling', '25', '24', 'respectively', 'hose', '22', 'connected', 'source', 'foam', 'pressure', 'hose', '23', 'connected', 'source', 'powder', 'pressure', 'pivotally', 'mounted', 'upper', 'portion', 'main', 'body', '11', 'two', 'lever', '19', '21', 'provided', 'broad', 'plate', '32', '33', 'respectively', 'extending', 'lower', 'part', 'lower', 'tube', '27', 'handle', '44', 'joined', 'connecting', 'rod', '45', 'regulating', 'vane', '46', 'exit', 'end', 'tube', 'fig', '2', '3', 'seen', 'main', 'body', '11', 'provided', 'upper', 'passage', '13', 'lower', 'passage', '14', 'passage', 'extending', 'main', 'body', 'spaced', 'parallel', 'relationship', 'passage', '13', 'connects', 'coupling', '24', 'tube', '26', 'passage', '14', 'connects', 'coupling', '25', 'tube', '27', 'ball', '15', 'mounted', 'passage', '13', 'ball', '16', 'mounted', 'passage', '14', 'ball', '15', 'bore', '17', 'ball', '16', 'bore', '18', 'extending', 'bore', 'axis', 'co', 'incidental', 'center', 'ball', 'ball', 'mounted', 'rotation', 'horizontal', 'axis', 'passing', 'center', 'ball', 'perpendicular', 'axis', 'bore', 'lever', '21', 'pivotally', 'mounted', 'upper', 'portion', 'main', 'body', '11', 'directly', 'connected', 'ball', '15', 'rotating', 'ball', '34', 'operative', '34', 'position', 'wherein', 'bore', '17', 'aligned', 'passage', '13', '34', 'inoperative', '34', 'position', 'bore', 'right', 'angle', 'passage', 'similarly', 'lever', '19', 'also', 'pivotally', 'mounted', 'upper', 'portion', 'main', 'body', '11', 'serf', 'rotate', 'ball', '16', 'way', 'inoperative', 'position', 'operative', 'position', 'two', 'lever', 'mounted', 'side', 'side', 'position', 'pivoted', 'common', 'pivotal', 'axis', 'extends', 'horizontally', 'right', 'angle', 'axis', 'passage', '13', 'specifically', 'pivotal', 'axis', 'lever', '19', '21', 'co', 'incidental', 'axis', 'rotation', 'upper', 'ball', '15', 'lever', '21', 'directly', 'connected', 'ball', 'lever', '19', 'connected', 'gear', 'train', 'consisting', 'gear', '28', '29', '31', 'ball', '16', 'lever', '19', '21', 'mounted', 'opposite', 'side', 'main', 'body', '11', 'extend', 'upwardly', 'therefrom', 'lever', '19', 'plate', '32', 'extending', 'inwardly', 'thereof', 'lever', '21', 'similar', 'plate', '32', 'extending', 'inwardly', 'plate', 'vertical', 'edge', '34', '35', 'respectively', 'lie', 'closely', 'spaced', 'parallel', 'relationship', 'ball', '15', 'provided', 'laterally', 'extending', 'journal', '36', '37', 'lie', 'corresponding', 'bore', '38', 'extends', 'across', 'main', 'body', 'right', 'angle', 'passage', '13', 'journal', 'consists', 'large', 'portion', 'cylindrical', 'surface', 'provided', 'ring', 'carried', 'bore', 'smaller', 'portion', 'join', 'ball', '15', 'ball', '16', 'similarly', 'provided', 'journal', '41', '42', 'lie', 'bore', '43', 'extending', 'transversely', 'across', 'main', 'body', '11', 'right', 'angle', 'passage', '14', 'ball', '16', 'provided', 'polymer', 'seal', '39', 'mounted', 'passage', '14', 'contact', 'ball', 'similar', 'seal', 'shown', 'provided', 'upper', 'ball', '15', 'operation', 'advantage', 'invention', 'readily', 'understood', 'view', 'description', 'operation', 'pressurized', 'foam', 'appears', 'hose', '22', 'time', 'transmitted', 'coupling', '25', 'passage', '14', 'bore', '18', 'tube', '27', 'occasion', 'similarly', 'pressurized', 'powder', 'appears', 'hose', '23', 'transmitted', 'coupling', '24', 'passage', '13', 'bore', '17', 'tube', '26', 'desired', 'lever', '19', '21', 'rearmost', 'position', 'shown', 'positing', 'drawing', 'bore', '17', '18', 'aligned', 'passage', '13', '14', 'respectively', 'fire', 'fighting', 'agent', 'pass', 'lever', '21', 'rotated', 'forward', 'position', 'bore', '17', 'rotated', 'alignment', 'passage', 'agent', 'flow', 'exit', 'tube', '26', 'lever', '21', 'securely', 'fastened', 'outer', 'end', 'journal', '36', 'journal', 'ball', '15', 'rotate', 'handle', 'similarly', 'rotation', 'lever', '19', 'operates', 'train', 'gear', '28', '29', '31', 'rotate', 'journal', '42', 'consequently', 'ball', '16', 'rotation', 'cause', 'bore', '18', 'move', 'alignment', 'passage', '14', 'agent', 'pas', 'tube', '27', 'broad', 'surface', 'plate', '32', '33', 'provide', 'suitable', 'place', 'indicia', 'show', 'type', 'agent', 'used', 'also', 'provide', 'secure', 'grasping', 'lever', 'even', 'operator', '39', 'hand', 'slippery', 'act', 'handle', 'stop', 'two', 'direction', 'normal', 'operation', 'nozzle', 'would', 'grasp', 'handle', '12', 'right', 'hand', 'operate', 'lever', '19', '21', 'left', 'hand', 'valve', 'adjusted', 'handle', '44', 'grasped', 'left', 'hand', 'also', 'capable', 'adjusting', 'shape', 'foam', 'stream', 'operating', 'connecting', 'rod', '45', 'move', 'vane', '46', 'seen', 'present', 'device', 'involves', 'simple', 'inexpensive', 'equipment', 'accomplishing', 'purpose', 'fact', 'lever', '19', '21', 'extend', 'upwardly', 'upper', 'part', 'main', 'body', '11', 'provides', 'convenient', 'control', 'operation', 'allowing', 'operator', 'switch', 'one', 'agent', 'another', 'readily', 'operate', 'agent', 'together', 'passage', 'large', 'extend', 'straight', 'apparatus', 'easily', 'subject', 'clogging', 'furthermore', 'part', 'readily', 'disassembled', 'cleaning', 'obvious', 'minor', 'change', 'may', 'made', 'construction', 'invention', 'without', 'departing', 'material', 'spirit', 'thereof', 'however', 'desired', 'confine', 'invention', 'exact', 'form', 'herein', 'shown', 'described', 'desired', 'include', 'properly', 'come', 'within', 'scope', 'claimed']\n"
          ]
        }
      ]
    },
    {
      "cell_type": "code",
      "source": [
        "# STEMMING\n",
        "\n",
        "from nltk import LancasterStemmer\n",
        "\n",
        "# create an object of class LancasterStemmer\n",
        "lancaster = LancasterStemmer()\n",
        "\n",
        "#x_train_text_stemmed = []\n",
        "#for el in x_train_text_processed:\n",
        "  #stemmed_tokens = [\n",
        "            #lancaster.stem(token.lower())  # Stemming\n",
        "            #for token in word_tokenize(el)  # Tokenize\n",
        "            #if token.lower() not in stopwords  # Stopwords removals\n",
        "        #]\n",
        "  #x_train_text_stemmed.append(stemmed_tokens)\n",
        "\n",
        "#x_validation_text_stemmed = []\n",
        "#for el in x_validation_text_processed:\n",
        "  #stemmed_tokens = [\n",
        "            #lancaster.stem(token.lower())  # Stemming\n",
        "            #for token in word_tokenize(el)  # Tokenize\n",
        "            #if token.lower() not in stopwords  # Stopwords removals\n",
        "        #]\n",
        "  #x_validation_text_stemmed.append(stemmed_tokens)\n",
        "\n",
        "  #print(x_validation_text_tokenized[1] + \"\\n---------------------------------------------------------\\n\")\n",
        "  #print(x_validation_text_stemmed[1])\n",
        "\n",
        "#x_test_text_stemmed = []\n",
        "#for el in x_test_text_processed:\n",
        "  #stemmed_tokens = [\n",
        "            #lancaster.stem(token.lower())  # Stemming\n",
        "            #for token in word_tokenize(el)  # Tokenize\n",
        "            #if token.lower() not in stopwords  # Stopwords removals\n",
        "        #]\n",
        "  #x_test_text_stemmed.append(stemmed_tokens)\n",
        "\n",
        "\n",
        "stemmed_tokens = [\n",
        "            lancaster.stem(token.lower())  # Stemming\n",
        "            for token in word_tokenize(x_validation_text_processed[1])  # Tokenize\n",
        "            if token.lower() not in stopwords  # Stopwords removals\n",
        "        ]\n",
        "print(x_validation_text_processed[1])\n",
        "print(stemmed_tokens)"
      ],
      "metadata": {
        "id": "PU1cRTXTWtv9",
        "colab": {
          "base_uri": "https://localhost:8080/"
        },
        "outputId": "b5734f3e-bbc0-411a-c316-2ea7c06c7f20"
      },
      "execution_count": null,
      "outputs": [
        {
          "output_type": "stream",
          "name": "stdout",
          "text": [
            "BACKGROUND OF THE INVENTION In fire trucks and similar apparatus it is common practice to provide a plurality of fire fighting agents that may be used selectively depending on the type of fire encountered For instance in some types of fire it is desirable to use a foam whereas with other types it is desirable to use a powder It is desirable to connect these two agents to a common nozzle so that the selection of agent may be made at the point of use The operator may wish to use the agents separately as experience dictates to extinguish the fire It is on occasion desirable to use both agents at the same time My U S Pat No 4 030 666 which issued on June 21 1977 shows a construction for performing these functions in response to a trigger mechanism It is desirable on occasion however to provide a very simple construction in which there are no small passages that can clog and interfere with the operation of the equipment and which present very little resistance to the flow of the fire fighting agent These and other difficulties experienced with the prior art devices have been obviated in a novel manner by the present invention It is therefore an outstanding object of the invention to provide a nozzle for selective use with two fire fighting agents Another object of this invention is the provision of a fire fighting nozzle with two valves and two tubes formed in a single structure A further object of the present invention is the provision of a dual agent nozzle which is simple in construction which is inexpensive to manufacture and which is capable of a long life of useful service with a minimum of maintenance It is another object of the instant invention to provide a dual agent nozzle having valves which present little resistance to the flow of material A still further object of the invention is the provision of a fire fighting nozzle in which the valves are so constructed that they may receive the pressure of fire fighting agents continuously and indefinitely without damage It is a further object of the invention to provide a dual agent fire fighting nozzle having valve elements that are not easily corroded by the agents used It is a still further object of the invention to provide a fire fighting nozzle which can be held by the operator in one hand while valve selectors are operated easily by the other hand It is another object to provide a dual action nozzle having double valves in which the 34 open 34 or 34 closed 34 condition of each valve is visually indicated by the operating handles With these and other objects in view as will be apparent to those skilled in the art the invention resides in the combination of parts set forth in the specification and covered by the claims appended hereto SUMMARY OF THE INVENTION In general the invention consists of a fire fighting nozzle having a main body with a pistol handle extending from the lower portion The main body has upper and lower passages extending through it in spacedparallel relationship A ball with a bore is located in each passage and mounted for rotation about a horizontal axis passing through the center of the ball perpendicular to the axis of the bore A lever is pivotally mounted at the upper portion of the main body for rotating each ball from an operative position where the bore is aligned with its passage to an inoperative position where the bore extends at a right angle to its passage Means is provided for connecting one end of each of the passages to one of two different fire fighting agents and a tube extends from the other end of each passage to serve as an exit for the agent More specifically the two levers are mounted side by side on a common pivotal axis which extends horizontally and is coincidental with the axis of rotation of the upper ball one of the levers being directly connected to that ball The other lever is connected by a gear train to the lower ball The levers have broad plates extending toward each other and have straight vertical edges that lie adjacent each other midway between the levers Each ball is provided with laterally extending journals which are carried in corresponding bores in the main body and a polymer seal is mounted in each passage in contact with its ball BRIEF DESCRIPTION OF THE DRAWINGS The character of the invention however may be best understood by reference to one of its structural forms as illustrated by the accompanying drawings in which FIG 1 is a perspective view of a fire fighting nozzle incorporating the principles of the present invention FIG 2 is a side view of the nozzle with portions broken way and FIG 3 is a sectional view of the nozzle taken on the line III III of FIG 2 DESCRIPTION OF THE PREFERRED EMBODIMENT Referring first to FIG 1 wherein are best shown the general features of the invention the fire fighting nozzle indicated generally by the reference numeral 10 is shown as having a main body 11 from the lower portion of which extends a pistol grip handle 12 On one side of the main body extend an upper and a lower exit tube 26 and 27 To the other side of the main body are attached hoses 22 and 23 which are connected to the main body by means of couplings 25 and 24 respectively The hose 22 is connected to a source of foam under pressure while the hose 23 is connected to a source of powder under pressure Pivotally mounted to the upper portion of the main body 11 are two levers 19 and 21 provided with broad plates 32 and 33 respectively Extending from the lower part of the lower tube 27 is a handle 44 which is joined by a connecting rod 45 to a regulating vane 46 at the exit end of the tube In FIGS 2 and 3 it can be seen that the main body 11 is provided with an upper passage 13 and a lower passage 14 these passages extending through the main body in spaced parallel relationship The passage 13 connects the coupling 24 to the tube 26 and the passage 14 connects the coupling 25 to the tube 27 A ball 15 is mounted in the passage 13 while a ball 16 is mounted in the passage 14 The ball 15 has a bore 17 while the ball 16 has a bore 18 extending through it each bore having an axis which is co incidental with the center of the ball Each ball is mounted for rotation about its own horizontal axis passing through the center of the ball and perpendicular to the axis of its bore The lever 21 which is pivotally mounted at the upper portion of the main body 11 is directly connected to the ball 15 for rotating the ball from an 34 operative 34 position wherein the bore 17 is aligned with the passage 13 to an 34 inoperative 34 position in which the bore is at a right angle to the passage Similarly the lever 19 is also pivotally mounted at the upper portion of the main body 11 and serves to rotate the ball 16 in the same way from an inoperative position to an operative position The two levers are mounted in side by side position and are pivoted on a common pivotal axis A A which extends horizontally at a right angle to the axis of the passage 13 More specifically the pivotal axis A A of the levers 19 and 21 is co incidental with the axis of rotation of the upper ball 15 and the lever 21 is directly connected to that ball The lever 19 is connected by a gear train consisting of gears 28 29 and 31 to the ball 16 The levers 19 and 21 are mounted on opposite sides of the main body 11 and extend upwardly therefrom The lever 19 has a plate 32 extending inwardly thereof while the lever 21 has a similar plate 32 extending inwardly These plates have vertical edges 34 and 35 respectively that lie in closely spaced parallel relationship The ball 15 is provided with laterally extending journals 36 and 37 which lie in a corresponding bore 38 which extends across the main body at a right angle to the passage 13 This journal consists of a large portion having a cylindrical surface provided with an O ring carried in the bore and a smaller portion which joins it to the ball 15 itself The ball 16 is similarly provided with journals 41 and 42 which lie in a bore 43 extending transversely across through the main body 11 at a right angle to the passage 14 The ball 16 is provided with a polymer seal 39 mounted in the passage 14 in contact with the ball and a similar seal not shown is provided for the upper ball 15 The operation and the advantages of the invention will now be readily understood in view of the above description During operation pressurized foam appears at the hose 22 at all times and is transmitted through the coupling 25 and the passage 14 and bore 18 to the tube 27 on occasion Similarly pressurized powder appears in the hose 23 and can be transmitted through the coupling 24 and the passage 13 and bore 17 to the tube 26 when desired When the levers 19 and 21 are in the rearmost position shown out of positing in the drawings the bores 17 and 18 are aligned with their passages 13 and 14 respectively and the fire fighting agent passes through When the lever 21 is rotated to its most forward position the bore 17 is rotated out of alignment with the passage and no agent can flow through the exit tube 26 The lever 21 is securely fastened to the outer end of the journal 36 so that the journal and the ball 15 rotate with the handle Similarly the rotation of the lever 19 operates through the trains of gears 28 29 and 31 to rotate the journal 42 and consequently the ball 16 This rotation causes the bore 18 to move out of alignment with the passage 14 so that agent cannot pass through into the tube 27 The broad surfaces of the plates 32 and 33 not only provide a suitable place for indicia to show the type of agent used but also provide for secure grasping of the lever even when the operator 39 s hands are slippery and act as a handle stop in the two directions The normal operation of the nozzle would be to grasp it by the handle 12 with the right hand and to operate the levers 19 and 21 with the left hand After the valves have been adjusted the handle 44 is grasped with the left hand which is also capable of adjusting the shape of the foam stream by operating through the connecting rod 45 to move the vane 46 It can be seen then that the present device involves very simple inexpensive equipment for accomplishing its purpose The fact that the levers 19 and 21 extend upwardly from the upper part of the main body 11 provides for convenient control of the operation allowing the operator to switch from one agent to another very readily or to operate with both agents together The passages are large and extend straight through the apparatus so that they are not easily subject to clogging Furthermore the parts can be readily disassembled for cleaning It is obvious that minor changes may be made in the construction of the invention without departing from the material spirit thereof It is not however desired to confine the invention to the exact form herein shown and described but it is desired to include all such as properly come within the scope claimed \n",
            "['background', 'inv', 'fir', 'truck', 'simil', 'apparat', 'common', 'pract', 'provid', 'plur', 'fir', 'fight', 'ag', 'may', 'us', 'select', 'depend', 'typ', 'fir', 'encount', 'inst', 'typ', 'fir', 'desir', 'us', 'foam', 'wherea', 'typ', 'desir', 'us', 'powd', 'desir', 'connect', 'two', 'ag', 'common', 'nozzl', 'select', 'ag', 'may', 'mad', 'point', 'us', 'op', 'may', 'wish', 'us', 'ag', 'sep', 'expery', 'dict', 'extinct', 'fir', 'occas', 'desir', 'us', 'ag', 'tim', 'u', 'pat', '4', '030', '666', 'issu', 'jun', '21', '1977', 'show', 'construct', 'perform', 'funct', 'respons', 'trig', 'mech', 'desir', 'occas', 'howev', 'provid', 'simpl', 'construct', 'smal', 'pass', 'clog', 'interf', 'op', 'equip', 'pres', 'littl', 'resist', 'flow', 'fir', 'fight', 'ag', 'difficul', 'expery', 'pri', 'art', 'dev', 'obvy', 'novel', 'man', 'pres', 'inv', 'theref', 'outstand', 'object', 'inv', 'provid', 'nozzl', 'select', 'us', 'two', 'fir', 'fight', 'ag', 'anoth', 'object', 'inv', 'provid', 'fir', 'fight', 'nozzl', 'two', 'valv', 'two', 'tub', 'form', 'singl', 'structure', 'object', 'pres', 'inv', 'provid', 'dual', 'ag', 'nozzl', 'simpl', 'construct', 'inexpend', 'manufact', 'cap', 'long', 'lif', 'us', 'serv', 'minim', 'maint', 'anoth', 'object', 'inst', 'inv', 'provid', 'dual', 'ag', 'nozzl', 'valv', 'pres', 'littl', 'resist', 'flow', 'mat', 'stil', 'object', 'inv', 'provid', 'fir', 'fight', 'nozzl', 'valv', 'construct', 'may', 'receiv', 'press', 'fir', 'fight', 'ag', 'continu', 'indefinit', 'without', 'dam', 'object', 'inv', 'provid', 'dual', 'ag', 'fir', 'fight', 'nozzl', 'valv', 'el', 'easy', 'corrod', 'ag', 'us', 'stil', 'object', 'inv', 'provid', 'fir', 'fight', 'nozzl', 'held', 'op', 'on', 'hand', 'valv', 'select', 'op', 'easy', 'hand', 'anoth', 'object', 'provid', 'dual', 'act', 'nozzl', 'doubl', 'valv', '34', 'op', '34', '34', 'clos', '34', 'condit', 'valv', 'vis', 'ind', 'op', 'handl', 'object', 'view', 'app', 'skil', 'art', 'inv', 'resid', 'combin', 'part', 'set', 'for', 'spec', 'cov', 'claim', 'append', 'hereto', 'sum', 'inv', 'gen', 'inv', 'consist', 'fir', 'fight', 'nozzl', 'main', 'body', 'pistol', 'handl', 'extend', 'low', 'port', 'main', 'body', 'up', 'low', 'pass', 'extend', 'spacedparallel', 'rel', 'bal', 'bor', 'loc', 'pass', 'mount', 'rot', 'horizont', 'ax', 'pass', 'cent', 'bal', 'perpendicul', 'ax', 'bor', 'lev', 'pivot', 'mount', 'up', 'port', 'main', 'body', 'rot', 'bal', 'op', 'posit', 'bor', 'align', 'pass', 'inop', 'posit', 'bor', 'extend', 'right', 'angl', 'pass', 'mean', 'provid', 'connect', 'on', 'end', 'pass', 'on', 'two', 'diff', 'fir', 'fight', 'ag', 'tub', 'extend', 'end', 'pass', 'serv', 'exit', 'ag', 'spec', 'two', 'lev', 'mount', 'sid', 'sid', 'common', 'pivot', 'ax', 'extend', 'horizont', 'coincid', 'ax', 'rot', 'up', 'bal', 'on', 'lev', 'direct', 'connect', 'bal', 'lev', 'connect', 'gear', 'train', 'low', 'bal', 'lev', 'broad', 'plat', 'extend', 'toward', 'straight', 'vert', 'edg', 'lie', 'adjac', 'midway', 'lev', 'bal', 'provid', 'lat', 'extend', 'journ', 'carry', 'correspond', 'bor', 'main', 'body', 'polym', 'seal', 'mount', 'pass', 'contact', 'bal', 'brief', 'describ', 'draw', 'charact', 'inv', 'howev', 'may', 'best', 'understood', 'ref', 'on', 'structural', 'form', 'illust', 'accompany', 'draw', 'fig', '1', 'perspect', 'view', 'fir', 'fight', 'nozzl', 'incorp', 'principl', 'pres', 'inv', 'fig', '2', 'sid', 'view', 'nozzl', 'port', 'brok', 'way', 'fig', '3', 'sect', 'view', 'nozzl', 'tak', 'lin', 'ii', 'ii', 'fig', '2', 'describ', 'prefer', 'embody', 'refer', 'first', 'fig', '1', 'wherein', 'best', 'shown', 'gen', 'feat', 'inv', 'fir', 'fight', 'nozzl', 'ind', 'gen', 'ref', 'num', '10', 'shown', 'main', 'body', '11', 'low', 'port', 'extend', 'pistol', 'grip', 'handl', '12', 'on', 'sid', 'main', 'body', 'extend', 'up', 'low', 'exit', 'tub', '26', '27', 'sid', 'main', 'body', 'attach', 'hos', '22', '23', 'connect', 'main', 'body', 'mean', 'coupl', '25', '24', 'respect', 'hos', '22', 'connect', 'sourc', 'foam', 'press', 'hos', '23', 'connect', 'sourc', 'powd', 'press', 'pivot', 'mount', 'up', 'port', 'main', 'body', '11', 'two', 'lev', '19', '21', 'provid', 'broad', 'plat', '32', '33', 'respect', 'extend', 'low', 'part', 'low', 'tub', '27', 'handl', '44', 'join', 'connect', 'rod', '45', 'reg', 'van', '46', 'exit', 'end', 'tub', 'fig', '2', '3', 'seen', 'main', 'body', '11', 'provid', 'up', 'pass', '13', 'low', 'pass', '14', 'pass', 'extend', 'main', 'body', 'spac', 'parallel', 'rel', 'pass', '13', 'connect', 'coupl', '24', 'tub', '26', 'pass', '14', 'connect', 'coupl', '25', 'tub', '27', 'bal', '15', 'mount', 'pass', '13', 'bal', '16', 'mount', 'pass', '14', 'bal', '15', 'bor', '17', 'bal', '16', 'bor', '18', 'extend', 'bor', 'ax', 'co', 'incid', 'cent', 'bal', 'bal', 'mount', 'rot', 'horizont', 'ax', 'pass', 'cent', 'bal', 'perpendicul', 'ax', 'bor', 'lev', '21', 'pivot', 'mount', 'up', 'port', 'main', 'body', '11', 'direct', 'connect', 'bal', '15', 'rot', 'bal', '34', 'op', '34', 'posit', 'wherein', 'bor', '17', 'align', 'pass', '13', '34', 'inop', '34', 'posit', 'bor', 'right', 'angl', 'pass', 'simil', 'lev', '19', 'also', 'pivot', 'mount', 'up', 'port', 'main', 'body', '11', 'serv', 'rot', 'bal', '16', 'way', 'inop', 'posit', 'op', 'posit', 'two', 'lev', 'mount', 'sid', 'sid', 'posit', 'pivot', 'common', 'pivot', 'ax', 'extend', 'horizont', 'right', 'angl', 'ax', 'pass', '13', 'spec', 'pivot', 'ax', 'lev', '19', '21', 'co', 'incid', 'ax', 'rot', 'up', 'bal', '15', 'lev', '21', 'direct', 'connect', 'bal', 'lev', '19', 'connect', 'gear', 'train', 'consist', 'gear', '28', '29', '31', 'bal', '16', 'lev', '19', '21', 'mount', 'opposit', 'sid', 'main', 'body', '11', 'extend', 'upward', 'therefrom', 'lev', '19', 'plat', '32', 'extend', 'inward', 'thereof', 'lev', '21', 'simil', 'plat', '32', 'extend', 'inward', 'plat', 'vert', 'edg', '34', '35', 'respect', 'lie', 'clos', 'spac', 'parallel', 'rel', 'bal', '15', 'provid', 'lat', 'extend', 'journ', '36', '37', 'lie', 'correspond', 'bor', '38', 'extend', 'across', 'main', 'body', 'right', 'angl', 'pass', '13', 'journ', 'consist', 'larg', 'port', 'cylindr', 'surfac', 'provid', 'ring', 'carry', 'bor', 'smal', 'port', 'join', 'bal', '15', 'bal', '16', 'simil', 'provid', 'journ', '41', '42', 'lie', 'bor', '43', 'extend', 'transvers', 'across', 'main', 'body', '11', 'right', 'angl', 'pass', '14', 'bal', '16', 'provid', 'polym', 'seal', '39', 'mount', 'pass', '14', 'contact', 'bal', 'simil', 'seal', 'shown', 'provid', 'up', 'bal', '15', 'op', 'adv', 'inv', 'ready', 'understood', 'view', 'describ', 'op', 'press', 'foam', 'appear', 'hos', '22', 'tim', 'transmit', 'coupl', '25', 'pass', '14', 'bor', '18', 'tub', '27', 'occas', 'simil', 'press', 'powd', 'appear', 'hos', '23', 'transmit', 'coupl', '24', 'pass', '13', 'bor', '17', 'tub', '26', 'desir', 'lev', '19', '21', 'rearmost', 'posit', 'shown', 'posit', 'draw', 'bor', '17', '18', 'align', 'pass', '13', '14', 'respect', 'fir', 'fight', 'ag', 'pass', 'lev', '21', 'rot', 'forward', 'posit', 'bor', '17', 'rot', 'align', 'pass', 'ag', 'flow', 'exit', 'tub', '26', 'lev', '21', 'sec', 'fast', 'out', 'end', 'journ', '36', 'journ', 'bal', '15', 'rot', 'handl', 'simil', 'rot', 'lev', '19', 'op', 'train', 'gear', '28', '29', '31', 'rot', 'journ', '42', 'consequ', 'bal', '16', 'rot', 'caus', 'bor', '18', 'mov', 'align', 'pass', '14', 'ag', 'pass', 'tub', '27', 'broad', 'surfac', 'plat', '32', '33', 'provid', 'suit', 'plac', 'indic', 'show', 'typ', 'ag', 'us', 'also', 'provid', 'sec', 'grasp', 'lev', 'ev', 'op', '39', 'hand', 'slippery', 'act', 'handl', 'stop', 'two', 'direct', 'norm', 'op', 'nozzl', 'would', 'grasp', 'handl', '12', 'right', 'hand', 'op', 'lev', '19', '21', 'left', 'hand', 'valv', 'adjust', 'handl', '44', 'grasp', 'left', 'hand', 'also', 'cap', 'adjust', 'shap', 'foam', 'stream', 'op', 'connect', 'rod', '45', 'mov', 'van', '46', 'seen', 'pres', 'dev', 'involv', 'simpl', 'inexpend', 'equip', 'accompl', 'purpos', 'fact', 'lev', '19', '21', 'extend', 'upward', 'up', 'part', 'main', 'body', '11', 'provid', 'conveny', 'control', 'op', 'allow', 'op', 'switch', 'on', 'ag', 'anoth', 'ready', 'op', 'ag', 'togeth', 'pass', 'larg', 'extend', 'straight', 'apparat', 'easy', 'subject', 'clog', 'furtherm', 'part', 'ready', 'disassembl', 'cle', 'obvy', 'min', 'chang', 'may', 'mad', 'construct', 'inv', 'without', 'depart', 'mat', 'spirit', 'thereof', 'howev', 'desir', 'confin', 'inv', 'exact', 'form', 'herein', 'shown', 'describ', 'desir', 'includ', 'prop', 'com', 'within', 'scop', 'claim']\n"
          ]
        }
      ]
    },
    {
      "cell_type": "markdown",
      "source": [
        "###TRAIN/TEST SPLIT DATASET"
      ],
      "metadata": {
        "id": "zp6Ut7iL5e_W"
      }
    },
    {
      "cell_type": "code",
      "source": [
        "# Split del dataset\n",
        "\n",
        "x_train_text = ds['train']['description']\n",
        "y_train = ds['train']['abstract']"
      ],
      "metadata": {
        "id": "EtjU486z5g-B"
      },
      "execution_count": null,
      "outputs": []
    },
    {
      "cell_type": "code",
      "source": [
        "x_validation_text = ds['validation']['description']\n",
        "y_validation = ds['validation']['abstract']"
      ],
      "metadata": {
        "id": "mZIIFw0SstJV"
      },
      "execution_count": null,
      "outputs": []
    },
    {
      "cell_type": "code",
      "source": [
        "x_test_text = ds['test']['description']\n",
        "y_test = ds['test']['abstract']\n",
        "#print(\"-----------\\n\" + x_test_text[1])"
      ],
      "metadata": {
        "id": "9PlJyup9strs"
      },
      "execution_count": null,
      "outputs": []
    },
    {
      "cell_type": "markdown",
      "source": [
        "### TEXT REPRESENTATIONS"
      ],
      "metadata": {
        "id": "6_CJSB_-jXRJ"
      }
    },
    {
      "cell_type": "code",
      "source": [
        "# Term Frequency-Inverse Document Frequency (TF-IDF)\n",
        "\n",
        "from sklearn.feature_extraction.text import TfidfVectorizer\n",
        "from tabulate import tabulate # Tabulate data to print\n",
        "\n",
        "print('\\nTF-IDF for documents using sklearn')\n",
        "\n",
        "tfidf = TfidfVectorizer()\n",
        "\n",
        "x_train_tfidf = tfidf.fit_transform(x_train_text_lemmatized)\n",
        "\n",
        "# Look at the vocabulary mapping\n",
        "print(\"Vocabulary: \", tfidf.vocabulary_)\n",
        "\n",
        "for i, doc in enumerate(x_train_text_lemmatize):\n",
        "  print('%s.' % (i+1), doc)\n",
        "  print(tabulate(round(x_train_tfidf[i], 2).toarray()))\n",
        "\n"
      ],
      "metadata": {
        "id": "3Zw8Cl1Ojb_d"
      },
      "execution_count": null,
      "outputs": []
    }
  ]
}