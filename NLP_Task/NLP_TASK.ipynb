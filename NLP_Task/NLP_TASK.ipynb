{
  "nbformat": 4,
  "nbformat_minor": 0,
  "metadata": {
    "colab": {
      "provenance": []
    },
    "kernelspec": {
      "name": "python3",
      "display_name": "Python 3"
    },
    "language_info": {
      "name": "python"
    },
    "widgets": {
      "application/vnd.jupyter.widget-state+json": {
        "49741e4b309d4073b768502155aca10f": {
          "model_module": "@jupyter-widgets/controls",
          "model_name": "HBoxModel",
          "model_module_version": "1.5.0",
          "state": {
            "_dom_classes": [],
            "_model_module": "@jupyter-widgets/controls",
            "_model_module_version": "1.5.0",
            "_model_name": "HBoxModel",
            "_view_count": null,
            "_view_module": "@jupyter-widgets/controls",
            "_view_module_version": "1.5.0",
            "_view_name": "HBoxView",
            "box_style": "",
            "children": [
              "IPY_MODEL_9a86834bbc194037a7f5ec64c9154182",
              "IPY_MODEL_f48767453b834b2b8f3071ee7c1031a3",
              "IPY_MODEL_f9b481f00819427c8097a299fd307f90"
            ],
            "layout": "IPY_MODEL_4f0d173d922b44a0b9ecbe0f2a8970d6"
          }
        },
        "9a86834bbc194037a7f5ec64c9154182": {
          "model_module": "@jupyter-widgets/controls",
          "model_name": "HTMLModel",
          "model_module_version": "1.5.0",
          "state": {
            "_dom_classes": [],
            "_model_module": "@jupyter-widgets/controls",
            "_model_module_version": "1.5.0",
            "_model_name": "HTMLModel",
            "_view_count": null,
            "_view_module": "@jupyter-widgets/controls",
            "_view_module_version": "1.5.0",
            "_view_name": "HTMLView",
            "description": "",
            "description_tooltip": null,
            "layout": "IPY_MODEL_d15a8430d2554510ab7c538c8b12c833",
            "placeholder": "​",
            "style": "IPY_MODEL_25c8d54b20c3491a9752ce77c87e6324",
            "value": "Loading dataset shards: 100%"
          }
        },
        "f48767453b834b2b8f3071ee7c1031a3": {
          "model_module": "@jupyter-widgets/controls",
          "model_name": "FloatProgressModel",
          "model_module_version": "1.5.0",
          "state": {
            "_dom_classes": [],
            "_model_module": "@jupyter-widgets/controls",
            "_model_module_version": "1.5.0",
            "_model_name": "FloatProgressModel",
            "_view_count": null,
            "_view_module": "@jupyter-widgets/controls",
            "_view_module_version": "1.5.0",
            "_view_name": "ProgressView",
            "bar_style": "success",
            "description": "",
            "description_tooltip": null,
            "layout": "IPY_MODEL_cb675c5ad6974dc781e9d3906503a1bd",
            "max": 75,
            "min": 0,
            "orientation": "horizontal",
            "style": "IPY_MODEL_895601facb8348bb83d7491967e6c222",
            "value": 75
          }
        },
        "f9b481f00819427c8097a299fd307f90": {
          "model_module": "@jupyter-widgets/controls",
          "model_name": "HTMLModel",
          "model_module_version": "1.5.0",
          "state": {
            "_dom_classes": [],
            "_model_module": "@jupyter-widgets/controls",
            "_model_module_version": "1.5.0",
            "_model_name": "HTMLModel",
            "_view_count": null,
            "_view_module": "@jupyter-widgets/controls",
            "_view_module_version": "1.5.0",
            "_view_name": "HTMLView",
            "description": "",
            "description_tooltip": null,
            "layout": "IPY_MODEL_5a958bc4433546d5b5620fe7828b1219",
            "placeholder": "​",
            "style": "IPY_MODEL_08ee76890c424ca28ad39c9d031e09a1",
            "value": " 75/75 [00:10&lt;00:00,  8.41it/s]"
          }
        },
        "4f0d173d922b44a0b9ecbe0f2a8970d6": {
          "model_module": "@jupyter-widgets/base",
          "model_name": "LayoutModel",
          "model_module_version": "1.2.0",
          "state": {
            "_model_module": "@jupyter-widgets/base",
            "_model_module_version": "1.2.0",
            "_model_name": "LayoutModel",
            "_view_count": null,
            "_view_module": "@jupyter-widgets/base",
            "_view_module_version": "1.2.0",
            "_view_name": "LayoutView",
            "align_content": null,
            "align_items": null,
            "align_self": null,
            "border": null,
            "bottom": null,
            "display": null,
            "flex": null,
            "flex_flow": null,
            "grid_area": null,
            "grid_auto_columns": null,
            "grid_auto_flow": null,
            "grid_auto_rows": null,
            "grid_column": null,
            "grid_gap": null,
            "grid_row": null,
            "grid_template_areas": null,
            "grid_template_columns": null,
            "grid_template_rows": null,
            "height": null,
            "justify_content": null,
            "justify_items": null,
            "left": null,
            "margin": null,
            "max_height": null,
            "max_width": null,
            "min_height": null,
            "min_width": null,
            "object_fit": null,
            "object_position": null,
            "order": null,
            "overflow": null,
            "overflow_x": null,
            "overflow_y": null,
            "padding": null,
            "right": null,
            "top": null,
            "visibility": null,
            "width": null
          }
        },
        "d15a8430d2554510ab7c538c8b12c833": {
          "model_module": "@jupyter-widgets/base",
          "model_name": "LayoutModel",
          "model_module_version": "1.2.0",
          "state": {
            "_model_module": "@jupyter-widgets/base",
            "_model_module_version": "1.2.0",
            "_model_name": "LayoutModel",
            "_view_count": null,
            "_view_module": "@jupyter-widgets/base",
            "_view_module_version": "1.2.0",
            "_view_name": "LayoutView",
            "align_content": null,
            "align_items": null,
            "align_self": null,
            "border": null,
            "bottom": null,
            "display": null,
            "flex": null,
            "flex_flow": null,
            "grid_area": null,
            "grid_auto_columns": null,
            "grid_auto_flow": null,
            "grid_auto_rows": null,
            "grid_column": null,
            "grid_gap": null,
            "grid_row": null,
            "grid_template_areas": null,
            "grid_template_columns": null,
            "grid_template_rows": null,
            "height": null,
            "justify_content": null,
            "justify_items": null,
            "left": null,
            "margin": null,
            "max_height": null,
            "max_width": null,
            "min_height": null,
            "min_width": null,
            "object_fit": null,
            "object_position": null,
            "order": null,
            "overflow": null,
            "overflow_x": null,
            "overflow_y": null,
            "padding": null,
            "right": null,
            "top": null,
            "visibility": null,
            "width": null
          }
        },
        "25c8d54b20c3491a9752ce77c87e6324": {
          "model_module": "@jupyter-widgets/controls",
          "model_name": "DescriptionStyleModel",
          "model_module_version": "1.5.0",
          "state": {
            "_model_module": "@jupyter-widgets/controls",
            "_model_module_version": "1.5.0",
            "_model_name": "DescriptionStyleModel",
            "_view_count": null,
            "_view_module": "@jupyter-widgets/base",
            "_view_module_version": "1.2.0",
            "_view_name": "StyleView",
            "description_width": ""
          }
        },
        "cb675c5ad6974dc781e9d3906503a1bd": {
          "model_module": "@jupyter-widgets/base",
          "model_name": "LayoutModel",
          "model_module_version": "1.2.0",
          "state": {
            "_model_module": "@jupyter-widgets/base",
            "_model_module_version": "1.2.0",
            "_model_name": "LayoutModel",
            "_view_count": null,
            "_view_module": "@jupyter-widgets/base",
            "_view_module_version": "1.2.0",
            "_view_name": "LayoutView",
            "align_content": null,
            "align_items": null,
            "align_self": null,
            "border": null,
            "bottom": null,
            "display": null,
            "flex": null,
            "flex_flow": null,
            "grid_area": null,
            "grid_auto_columns": null,
            "grid_auto_flow": null,
            "grid_auto_rows": null,
            "grid_column": null,
            "grid_gap": null,
            "grid_row": null,
            "grid_template_areas": null,
            "grid_template_columns": null,
            "grid_template_rows": null,
            "height": null,
            "justify_content": null,
            "justify_items": null,
            "left": null,
            "margin": null,
            "max_height": null,
            "max_width": null,
            "min_height": null,
            "min_width": null,
            "object_fit": null,
            "object_position": null,
            "order": null,
            "overflow": null,
            "overflow_x": null,
            "overflow_y": null,
            "padding": null,
            "right": null,
            "top": null,
            "visibility": null,
            "width": null
          }
        },
        "895601facb8348bb83d7491967e6c222": {
          "model_module": "@jupyter-widgets/controls",
          "model_name": "ProgressStyleModel",
          "model_module_version": "1.5.0",
          "state": {
            "_model_module": "@jupyter-widgets/controls",
            "_model_module_version": "1.5.0",
            "_model_name": "ProgressStyleModel",
            "_view_count": null,
            "_view_module": "@jupyter-widgets/base",
            "_view_module_version": "1.2.0",
            "_view_name": "StyleView",
            "bar_color": null,
            "description_width": ""
          }
        },
        "5a958bc4433546d5b5620fe7828b1219": {
          "model_module": "@jupyter-widgets/base",
          "model_name": "LayoutModel",
          "model_module_version": "1.2.0",
          "state": {
            "_model_module": "@jupyter-widgets/base",
            "_model_module_version": "1.2.0",
            "_model_name": "LayoutModel",
            "_view_count": null,
            "_view_module": "@jupyter-widgets/base",
            "_view_module_version": "1.2.0",
            "_view_name": "LayoutView",
            "align_content": null,
            "align_items": null,
            "align_self": null,
            "border": null,
            "bottom": null,
            "display": null,
            "flex": null,
            "flex_flow": null,
            "grid_area": null,
            "grid_auto_columns": null,
            "grid_auto_flow": null,
            "grid_auto_rows": null,
            "grid_column": null,
            "grid_gap": null,
            "grid_row": null,
            "grid_template_areas": null,
            "grid_template_columns": null,
            "grid_template_rows": null,
            "height": null,
            "justify_content": null,
            "justify_items": null,
            "left": null,
            "margin": null,
            "max_height": null,
            "max_width": null,
            "min_height": null,
            "min_width": null,
            "object_fit": null,
            "object_position": null,
            "order": null,
            "overflow": null,
            "overflow_x": null,
            "overflow_y": null,
            "padding": null,
            "right": null,
            "top": null,
            "visibility": null,
            "width": null
          }
        },
        "08ee76890c424ca28ad39c9d031e09a1": {
          "model_module": "@jupyter-widgets/controls",
          "model_name": "DescriptionStyleModel",
          "model_module_version": "1.5.0",
          "state": {
            "_model_module": "@jupyter-widgets/controls",
            "_model_module_version": "1.5.0",
            "_model_name": "DescriptionStyleModel",
            "_view_count": null,
            "_view_module": "@jupyter-widgets/base",
            "_view_module_version": "1.2.0",
            "_view_name": "StyleView",
            "description_width": ""
          }
        }
      }
    }
  },
  "cells": [
    {
      "cell_type": "markdown",
      "source": [
        "IMPORT"
      ],
      "metadata": {
        "id": "fAIClo5r4sXs"
      }
    },
    {
      "cell_type": "code",
      "execution_count": 1,
      "metadata": {
        "id": "MBRq51xs4oL2"
      },
      "outputs": [],
      "source": [
        "import torch\n",
        "from transformers import BertTokenizer, BertForSequenceClassification, AdamW\n",
        "from torch.utils.data import DataLoader, Dataset\n",
        "import re"
      ]
    },
    {
      "cell_type": "markdown",
      "source": [
        "LOAD DATASET"
      ],
      "metadata": {
        "id": "u1AbCSoI5AaR"
      }
    },
    {
      "cell_type": "code",
      "source": [
        "%%capture\n",
        "!pip install datasets"
      ],
      "metadata": {
        "id": "UbsmpINX6AcD"
      },
      "execution_count": 2,
      "outputs": []
    },
    {
      "cell_type": "code",
      "source": [
        "# Load del dataset\n",
        "from datasets import load_dataset\n",
        "\n",
        "ds = load_dataset(\"big_patent\")"
      ],
      "metadata": {
        "colab": {
          "base_uri": "https://localhost:8080/",
          "height": 234,
          "referenced_widgets": [
            "49741e4b309d4073b768502155aca10f",
            "9a86834bbc194037a7f5ec64c9154182",
            "f48767453b834b2b8f3071ee7c1031a3",
            "f9b481f00819427c8097a299fd307f90",
            "4f0d173d922b44a0b9ecbe0f2a8970d6",
            "d15a8430d2554510ab7c538c8b12c833",
            "25c8d54b20c3491a9752ce77c87e6324",
            "cb675c5ad6974dc781e9d3906503a1bd",
            "895601facb8348bb83d7491967e6c222",
            "5a958bc4433546d5b5620fe7828b1219",
            "08ee76890c424ca28ad39c9d031e09a1"
          ]
        },
        "id": "2-lWRUXC4_rU",
        "outputId": "3de00f1b-6f85-4ab6-83aa-e7a07b6d5975"
      },
      "execution_count": 3,
      "outputs": [
        {
          "output_type": "stream",
          "name": "stderr",
          "text": [
            "/usr/local/lib/python3.10/dist-packages/huggingface_hub/utils/_token.py:88: UserWarning: \n",
            "The secret `HF_TOKEN` does not exist in your Colab secrets.\n",
            "To authenticate with the Hugging Face Hub, create a token in your settings tab (https://huggingface.co/settings/tokens), set it as secret in your Google Colab and restart your session.\n",
            "You will be able to reuse this secret in all of your notebooks.\n",
            "Please note that authentication is recommended but still optional to access public models or datasets.\n",
            "  warnings.warn(\n",
            "/usr/local/lib/python3.10/dist-packages/datasets/load.py:1461: FutureWarning: The repository for big_patent contains custom code which must be executed to correctly load the dataset. You can inspect the repository content at https://hf.co/datasets/big_patent\n",
            "You can avoid this message in future by passing the argument `trust_remote_code=True`.\n",
            "Passing `trust_remote_code=True` will be mandatory to load this dataset from the next major release of `datasets`.\n",
            "  warnings.warn(\n"
          ]
        },
        {
          "output_type": "display_data",
          "data": {
            "text/plain": [
              "Loading dataset shards:   0%|          | 0/75 [00:00<?, ?it/s]"
            ],
            "application/vnd.jupyter.widget-view+json": {
              "version_major": 2,
              "version_minor": 0,
              "model_id": "49741e4b309d4073b768502155aca10f"
            }
          },
          "metadata": {}
        }
      ]
    },
    {
      "cell_type": "markdown",
      "source": [
        "VISUALIZZAZIONE DATASET"
      ],
      "metadata": {
        "id": "tWt9b3Ta5IHX"
      }
    },
    {
      "cell_type": "code",
      "source": [
        "# Visualizzazione dataset\n",
        "print(ds)\n",
        "# print(ds[\"test\"][\"description\"][1])\n",
        "# print(\"\\n\" + ds[\"test\"][\"abstract\"][1])"
      ],
      "metadata": {
        "colab": {
          "base_uri": "https://localhost:8080/"
        },
        "id": "42sq3xp05LPF",
        "outputId": "31884fc1-630b-418e-b0d3-78c26e234e6f"
      },
      "execution_count": 4,
      "outputs": [
        {
          "output_type": "stream",
          "name": "stdout",
          "text": [
            "DatasetDict({\n",
            "    train: Dataset({\n",
            "        features: ['description', 'abstract'],\n",
            "        num_rows: 1207222\n",
            "    })\n",
            "    validation: Dataset({\n",
            "        features: ['description', 'abstract'],\n",
            "        num_rows: 67068\n",
            "    })\n",
            "    test: Dataset({\n",
            "        features: ['description', 'abstract'],\n",
            "        num_rows: 67072\n",
            "    })\n",
            "})\n"
          ]
        }
      ]
    },
    {
      "cell_type": "markdown",
      "source": [
        "SPLIT DATASET"
      ],
      "metadata": {
        "id": "zp6Ut7iL5e_W"
      }
    },
    {
      "cell_type": "code",
      "source": [
        "# Split del dataset\n",
        "\n",
        "x_train_text = ds['train']['description']\n",
        "y_train = ds['train']['abstract']"
      ],
      "metadata": {
        "id": "EtjU486z5g-B"
      },
      "execution_count": null,
      "outputs": []
    },
    {
      "cell_type": "code",
      "source": [
        "x_validation_text = ds['validation']['description']\n",
        "y_validation = ds['validation']['abstract']"
      ],
      "metadata": {
        "id": "mZIIFw0SstJV"
      },
      "execution_count": null,
      "outputs": []
    },
    {
      "cell_type": "code",
      "source": [
        "x_test_text = ds['test']['description']\n",
        "y_test = ds['test']['abstract']\n",
        "#print(\"-----------\\n\" + x_test_text[1])"
      ],
      "metadata": {
        "id": "9PlJyup9strs"
      },
      "execution_count": null,
      "outputs": []
    },
    {
      "cell_type": "markdown",
      "source": [
        "PREPROCESSING DATI"
      ],
      "metadata": {
        "id": "3NGCkCCc5nLL"
      }
    },
    {
      "cell_type": "code",
      "source": [
        "# PREPROCESSING DATI\n",
        "# Trattamento dei dati tramite regex\n",
        "\n",
        "def noise_remover(text):\n",
        "    text2 = re.sub('<[^>]*>', '', text)  # remove html tags\n",
        "    text2 = re.sub('[^\\w\\s\\d]', ' ', text2)  # remove punctuations by negating chars, spaces, and digits\n",
        "    text2 = re.sub('\\s+', ' ', text2)  # remove consecutive spaces\n",
        "    #print(text2)\n",
        "    return text2\n",
        "\n",
        "\n",
        "# Rimozione rumore\n",
        "# Utilizzo tqdm per monitorare l'avanzamento\n",
        "\n",
        "#x_train_text_processed = []\n",
        "#for el in x_train_text:\n",
        "#  x_train_text_processed.append(noise_remover(el))\n",
        "\n",
        "x_validation_text_processed = []\n",
        "for el in x_validation_text:\n",
        "  x_validation_text_processed.append(noise_remover(el))\n",
        "\n",
        "#x_test_text_processed = []\n",
        "#for el in x_test_text:\n",
        "#  x_test_text_processed.append(noise_remover(el))\n",
        "\n",
        "\n",
        "#print(\"-----------\\n\" + x_test_text[1])"
      ],
      "metadata": {
        "id": "3Z_RyrMp5pE1"
      },
      "execution_count": null,
      "outputs": []
    },
    {
      "cell_type": "markdown",
      "source": [
        "TOKENIZZAZIONE"
      ],
      "metadata": {
        "id": "NUKXIy_ouY_A"
      }
    },
    {
      "cell_type": "code",
      "source": [
        "%%capture\n",
        "!pip install nltk"
      ],
      "metadata": {
        "id": "uQH_UlFeubOf"
      },
      "execution_count": null,
      "outputs": []
    },
    {
      "cell_type": "code",
      "source": [
        "for el in range(1,30):\n",
        "  print(el)"
      ],
      "metadata": {
        "id": "VOG0RwDhOMlg"
      },
      "execution_count": null,
      "outputs": []
    },
    {
      "cell_type": "code",
      "source": [
        "import nltk\n",
        "from nltk.tokenize import word_tokenize\n",
        "# Download the Punkt tokenizer model\n",
        "nltk.download('punkt')\n",
        "\n",
        "#x_train_text_tokenized = []\n",
        "#for el in x_train_text_processed:\n",
        "#  x_train_text_tokenized.append(word_tokenize(el))\n",
        "\n",
        "x_validation_text_tokenized = []\n",
        "for el in x_validation_text_processed:\n",
        "  x_validation_text_tokenized.append(word_tokenize(el))\n",
        "\n",
        "#x_test_text_tokenized = []\n",
        "#for el in x_test_text_processed:\n",
        "#  x_test_text_tokenized.append(word_tokenize(el))\n",
        "\n",
        "print(x_validation_text_processed[1] + \"\\n---------------------------------------------------------\\n\")\n",
        "print(x_validation_text_tokenized[1]) # print the list of tokens"
      ],
      "metadata": {
        "id": "IkqKqz_dwS4R"
      },
      "execution_count": null,
      "outputs": []
    }
  ]
}