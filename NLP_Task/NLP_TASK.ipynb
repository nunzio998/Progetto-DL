{
  "nbformat": 4,
  "nbformat_minor": 0,
  "metadata": {
    "colab": {
      "provenance": []
    },
    "kernelspec": {
      "name": "python3",
      "display_name": "Python 3"
    },
    "language_info": {
      "name": "python"
    },
    "widgets": {
      "application/vnd.jupyter.widget-state+json": {
        "0351885826444c4d98dfc3c613ebed3f": {
          "model_module": "@jupyter-widgets/controls",
          "model_name": "HBoxModel",
          "model_module_version": "1.5.0",
          "state": {
            "_dom_classes": [],
            "_model_module": "@jupyter-widgets/controls",
            "_model_module_version": "1.5.0",
            "_model_name": "HBoxModel",
            "_view_count": null,
            "_view_module": "@jupyter-widgets/controls",
            "_view_module_version": "1.5.0",
            "_view_name": "HBoxView",
            "box_style": "",
            "children": [
              "IPY_MODEL_45f48ae9f4e34ec4b408b3cd2e13a4fb",
              "IPY_MODEL_a537d3f300ab4322bc8eba7d91be3263",
              "IPY_MODEL_7f3099e4c94148d09ee8d5f50c3abe95"
            ],
            "layout": "IPY_MODEL_b6b35b0257c24c31b0d10fe51faeb178"
          }
        },
        "45f48ae9f4e34ec4b408b3cd2e13a4fb": {
          "model_module": "@jupyter-widgets/controls",
          "model_name": "HTMLModel",
          "model_module_version": "1.5.0",
          "state": {
            "_dom_classes": [],
            "_model_module": "@jupyter-widgets/controls",
            "_model_module_version": "1.5.0",
            "_model_name": "HTMLModel",
            "_view_count": null,
            "_view_module": "@jupyter-widgets/controls",
            "_view_module_version": "1.5.0",
            "_view_name": "HTMLView",
            "description": "",
            "description_tooltip": null,
            "layout": "IPY_MODEL_963ba1a3055845cc93d5e8b07a418fab",
            "placeholder": "​",
            "style": "IPY_MODEL_5452410026054667b055a0984c47fbfd",
            "value": "Loading dataset shards: 100%"
          }
        },
        "a537d3f300ab4322bc8eba7d91be3263": {
          "model_module": "@jupyter-widgets/controls",
          "model_name": "FloatProgressModel",
          "model_module_version": "1.5.0",
          "state": {
            "_dom_classes": [],
            "_model_module": "@jupyter-widgets/controls",
            "_model_module_version": "1.5.0",
            "_model_name": "FloatProgressModel",
            "_view_count": null,
            "_view_module": "@jupyter-widgets/controls",
            "_view_module_version": "1.5.0",
            "_view_name": "ProgressView",
            "bar_style": "success",
            "description": "",
            "description_tooltip": null,
            "layout": "IPY_MODEL_35058fde82944293b244d526b283e6e1",
            "max": 75,
            "min": 0,
            "orientation": "horizontal",
            "style": "IPY_MODEL_5ab7ed36c88443488a6c96843f80a568",
            "value": 75
          }
        },
        "7f3099e4c94148d09ee8d5f50c3abe95": {
          "model_module": "@jupyter-widgets/controls",
          "model_name": "HTMLModel",
          "model_module_version": "1.5.0",
          "state": {
            "_dom_classes": [],
            "_model_module": "@jupyter-widgets/controls",
            "_model_module_version": "1.5.0",
            "_model_name": "HTMLModel",
            "_view_count": null,
            "_view_module": "@jupyter-widgets/controls",
            "_view_module_version": "1.5.0",
            "_view_name": "HTMLView",
            "description": "",
            "description_tooltip": null,
            "layout": "IPY_MODEL_13415cffa94443f6a805e787fa44d471",
            "placeholder": "​",
            "style": "IPY_MODEL_cdb40a1edb264d7d858eac0dca50f68b",
            "value": " 75/75 [00:09&lt;00:00,  9.39it/s]"
          }
        },
        "b6b35b0257c24c31b0d10fe51faeb178": {
          "model_module": "@jupyter-widgets/base",
          "model_name": "LayoutModel",
          "model_module_version": "1.2.0",
          "state": {
            "_model_module": "@jupyter-widgets/base",
            "_model_module_version": "1.2.0",
            "_model_name": "LayoutModel",
            "_view_count": null,
            "_view_module": "@jupyter-widgets/base",
            "_view_module_version": "1.2.0",
            "_view_name": "LayoutView",
            "align_content": null,
            "align_items": null,
            "align_self": null,
            "border": null,
            "bottom": null,
            "display": null,
            "flex": null,
            "flex_flow": null,
            "grid_area": null,
            "grid_auto_columns": null,
            "grid_auto_flow": null,
            "grid_auto_rows": null,
            "grid_column": null,
            "grid_gap": null,
            "grid_row": null,
            "grid_template_areas": null,
            "grid_template_columns": null,
            "grid_template_rows": null,
            "height": null,
            "justify_content": null,
            "justify_items": null,
            "left": null,
            "margin": null,
            "max_height": null,
            "max_width": null,
            "min_height": null,
            "min_width": null,
            "object_fit": null,
            "object_position": null,
            "order": null,
            "overflow": null,
            "overflow_x": null,
            "overflow_y": null,
            "padding": null,
            "right": null,
            "top": null,
            "visibility": null,
            "width": null
          }
        },
        "963ba1a3055845cc93d5e8b07a418fab": {
          "model_module": "@jupyter-widgets/base",
          "model_name": "LayoutModel",
          "model_module_version": "1.2.0",
          "state": {
            "_model_module": "@jupyter-widgets/base",
            "_model_module_version": "1.2.0",
            "_model_name": "LayoutModel",
            "_view_count": null,
            "_view_module": "@jupyter-widgets/base",
            "_view_module_version": "1.2.0",
            "_view_name": "LayoutView",
            "align_content": null,
            "align_items": null,
            "align_self": null,
            "border": null,
            "bottom": null,
            "display": null,
            "flex": null,
            "flex_flow": null,
            "grid_area": null,
            "grid_auto_columns": null,
            "grid_auto_flow": null,
            "grid_auto_rows": null,
            "grid_column": null,
            "grid_gap": null,
            "grid_row": null,
            "grid_template_areas": null,
            "grid_template_columns": null,
            "grid_template_rows": null,
            "height": null,
            "justify_content": null,
            "justify_items": null,
            "left": null,
            "margin": null,
            "max_height": null,
            "max_width": null,
            "min_height": null,
            "min_width": null,
            "object_fit": null,
            "object_position": null,
            "order": null,
            "overflow": null,
            "overflow_x": null,
            "overflow_y": null,
            "padding": null,
            "right": null,
            "top": null,
            "visibility": null,
            "width": null
          }
        },
        "5452410026054667b055a0984c47fbfd": {
          "model_module": "@jupyter-widgets/controls",
          "model_name": "DescriptionStyleModel",
          "model_module_version": "1.5.0",
          "state": {
            "_model_module": "@jupyter-widgets/controls",
            "_model_module_version": "1.5.0",
            "_model_name": "DescriptionStyleModel",
            "_view_count": null,
            "_view_module": "@jupyter-widgets/base",
            "_view_module_version": "1.2.0",
            "_view_name": "StyleView",
            "description_width": ""
          }
        },
        "35058fde82944293b244d526b283e6e1": {
          "model_module": "@jupyter-widgets/base",
          "model_name": "LayoutModel",
          "model_module_version": "1.2.0",
          "state": {
            "_model_module": "@jupyter-widgets/base",
            "_model_module_version": "1.2.0",
            "_model_name": "LayoutModel",
            "_view_count": null,
            "_view_module": "@jupyter-widgets/base",
            "_view_module_version": "1.2.0",
            "_view_name": "LayoutView",
            "align_content": null,
            "align_items": null,
            "align_self": null,
            "border": null,
            "bottom": null,
            "display": null,
            "flex": null,
            "flex_flow": null,
            "grid_area": null,
            "grid_auto_columns": null,
            "grid_auto_flow": null,
            "grid_auto_rows": null,
            "grid_column": null,
            "grid_gap": null,
            "grid_row": null,
            "grid_template_areas": null,
            "grid_template_columns": null,
            "grid_template_rows": null,
            "height": null,
            "justify_content": null,
            "justify_items": null,
            "left": null,
            "margin": null,
            "max_height": null,
            "max_width": null,
            "min_height": null,
            "min_width": null,
            "object_fit": null,
            "object_position": null,
            "order": null,
            "overflow": null,
            "overflow_x": null,
            "overflow_y": null,
            "padding": null,
            "right": null,
            "top": null,
            "visibility": null,
            "width": null
          }
        },
        "5ab7ed36c88443488a6c96843f80a568": {
          "model_module": "@jupyter-widgets/controls",
          "model_name": "ProgressStyleModel",
          "model_module_version": "1.5.0",
          "state": {
            "_model_module": "@jupyter-widgets/controls",
            "_model_module_version": "1.5.0",
            "_model_name": "ProgressStyleModel",
            "_view_count": null,
            "_view_module": "@jupyter-widgets/base",
            "_view_module_version": "1.2.0",
            "_view_name": "StyleView",
            "bar_color": null,
            "description_width": ""
          }
        },
        "13415cffa94443f6a805e787fa44d471": {
          "model_module": "@jupyter-widgets/base",
          "model_name": "LayoutModel",
          "model_module_version": "1.2.0",
          "state": {
            "_model_module": "@jupyter-widgets/base",
            "_model_module_version": "1.2.0",
            "_model_name": "LayoutModel",
            "_view_count": null,
            "_view_module": "@jupyter-widgets/base",
            "_view_module_version": "1.2.0",
            "_view_name": "LayoutView",
            "align_content": null,
            "align_items": null,
            "align_self": null,
            "border": null,
            "bottom": null,
            "display": null,
            "flex": null,
            "flex_flow": null,
            "grid_area": null,
            "grid_auto_columns": null,
            "grid_auto_flow": null,
            "grid_auto_rows": null,
            "grid_column": null,
            "grid_gap": null,
            "grid_row": null,
            "grid_template_areas": null,
            "grid_template_columns": null,
            "grid_template_rows": null,
            "height": null,
            "justify_content": null,
            "justify_items": null,
            "left": null,
            "margin": null,
            "max_height": null,
            "max_width": null,
            "min_height": null,
            "min_width": null,
            "object_fit": null,
            "object_position": null,
            "order": null,
            "overflow": null,
            "overflow_x": null,
            "overflow_y": null,
            "padding": null,
            "right": null,
            "top": null,
            "visibility": null,
            "width": null
          }
        },
        "cdb40a1edb264d7d858eac0dca50f68b": {
          "model_module": "@jupyter-widgets/controls",
          "model_name": "DescriptionStyleModel",
          "model_module_version": "1.5.0",
          "state": {
            "_model_module": "@jupyter-widgets/controls",
            "_model_module_version": "1.5.0",
            "_model_name": "DescriptionStyleModel",
            "_view_count": null,
            "_view_module": "@jupyter-widgets/base",
            "_view_module_version": "1.2.0",
            "_view_name": "StyleView",
            "description_width": ""
          }
        }
      }
    }
  },
  "cells": [
    {
      "cell_type": "markdown",
      "source": [
        "IMPORT"
      ],
      "metadata": {
        "id": "fAIClo5r4sXs"
      }
    },
    {
      "cell_type": "code",
      "execution_count": 2,
      "metadata": {
        "id": "MBRq51xs4oL2"
      },
      "outputs": [],
      "source": [
        "import torch\n",
        "from transformers import BertTokenizer, BertForSequenceClassification, AdamW\n",
        "from torch.utils.data import DataLoader, Dataset\n",
        "import re"
      ]
    },
    {
      "cell_type": "markdown",
      "source": [
        "LOAD DATASET"
      ],
      "metadata": {
        "id": "u1AbCSoI5AaR"
      }
    },
    {
      "cell_type": "code",
      "source": [
        "%%capture\n",
        "!pip install datasets"
      ],
      "metadata": {
        "id": "UbsmpINX6AcD"
      },
      "execution_count": 3,
      "outputs": []
    },
    {
      "cell_type": "code",
      "source": [
        "# Load del dataset\n",
        "from datasets import load_dataset\n",
        "\n",
        "ds = load_dataset(\"big_patent\")"
      ],
      "metadata": {
        "colab": {
          "base_uri": "https://localhost:8080/",
          "height": 234,
          "referenced_widgets": [
            "0351885826444c4d98dfc3c613ebed3f",
            "45f48ae9f4e34ec4b408b3cd2e13a4fb",
            "a537d3f300ab4322bc8eba7d91be3263",
            "7f3099e4c94148d09ee8d5f50c3abe95",
            "b6b35b0257c24c31b0d10fe51faeb178",
            "963ba1a3055845cc93d5e8b07a418fab",
            "5452410026054667b055a0984c47fbfd",
            "35058fde82944293b244d526b283e6e1",
            "5ab7ed36c88443488a6c96843f80a568",
            "13415cffa94443f6a805e787fa44d471",
            "cdb40a1edb264d7d858eac0dca50f68b"
          ]
        },
        "id": "2-lWRUXC4_rU",
        "outputId": "9dfe5a8f-1eac-43a5-c7f1-e3a7cfe9fbca"
      },
      "execution_count": 4,
      "outputs": [
        {
          "output_type": "stream",
          "name": "stderr",
          "text": [
            "/usr/local/lib/python3.10/dist-packages/huggingface_hub/utils/_token.py:88: UserWarning: \n",
            "The secret `HF_TOKEN` does not exist in your Colab secrets.\n",
            "To authenticate with the Hugging Face Hub, create a token in your settings tab (https://huggingface.co/settings/tokens), set it as secret in your Google Colab and restart your session.\n",
            "You will be able to reuse this secret in all of your notebooks.\n",
            "Please note that authentication is recommended but still optional to access public models or datasets.\n",
            "  warnings.warn(\n",
            "/usr/local/lib/python3.10/dist-packages/datasets/load.py:1454: FutureWarning: The repository for big_patent contains custom code which must be executed to correctly load the dataset. You can inspect the repository content at https://hf.co/datasets/big_patent\n",
            "You can avoid this message in future by passing the argument `trust_remote_code=True`.\n",
            "Passing `trust_remote_code=True` will be mandatory to load this dataset from the next major release of `datasets`.\n",
            "  warnings.warn(\n"
          ]
        },
        {
          "output_type": "display_data",
          "data": {
            "text/plain": [
              "Loading dataset shards:   0%|          | 0/75 [00:00<?, ?it/s]"
            ],
            "application/vnd.jupyter.widget-view+json": {
              "version_major": 2,
              "version_minor": 0,
              "model_id": "0351885826444c4d98dfc3c613ebed3f"
            }
          },
          "metadata": {}
        }
      ]
    },
    {
      "cell_type": "markdown",
      "source": [
        "VISUALIZZAZIONE DATASET"
      ],
      "metadata": {
        "id": "tWt9b3Ta5IHX"
      }
    },
    {
      "cell_type": "code",
      "source": [
        "# Visualizzazione dataset\n",
        "print(ds)\n",
        "# print(ds[\"test\"][\"description\"][1])\n",
        "# print(\"\\n\" + ds[\"test\"][\"abstract\"][1])"
      ],
      "metadata": {
        "colab": {
          "base_uri": "https://localhost:8080/"
        },
        "id": "42sq3xp05LPF",
        "outputId": "2911a971-c0a5-491e-a4e6-6dd0603cca66"
      },
      "execution_count": 5,
      "outputs": [
        {
          "output_type": "stream",
          "name": "stdout",
          "text": [
            "DatasetDict({\n",
            "    train: Dataset({\n",
            "        features: ['description', 'abstract'],\n",
            "        num_rows: 1207222\n",
            "    })\n",
            "    validation: Dataset({\n",
            "        features: ['description', 'abstract'],\n",
            "        num_rows: 67068\n",
            "    })\n",
            "    test: Dataset({\n",
            "        features: ['description', 'abstract'],\n",
            "        num_rows: 67072\n",
            "    })\n",
            "})\n"
          ]
        }
      ]
    },
    {
      "cell_type": "markdown",
      "source": [
        "SPLIT DATASET"
      ],
      "metadata": {
        "id": "zp6Ut7iL5e_W"
      }
    },
    {
      "cell_type": "code",
      "source": [
        "# Split del dataset\n",
        "\n",
        "x_train_text = ds['train']['description']\n",
        "y_train = ds['train']['abstract']"
      ],
      "metadata": {
        "id": "EtjU486z5g-B"
      },
      "execution_count": null,
      "outputs": []
    },
    {
      "cell_type": "code",
      "source": [
        "x_validation_text = ds['validation']['description']\n",
        "y_validation = ds['validation']['abstract']"
      ],
      "metadata": {
        "id": "mZIIFw0SstJV"
      },
      "execution_count": 6,
      "outputs": []
    },
    {
      "cell_type": "code",
      "source": [
        "x_test_text = ds['test']['description']\n",
        "y_test = ds['test']['abstract']\n",
        "#print(\"-----------\\n\" + x_test_text[1])"
      ],
      "metadata": {
        "id": "9PlJyup9strs"
      },
      "execution_count": null,
      "outputs": []
    },
    {
      "cell_type": "markdown",
      "source": [
        "PREPROCESSING DATI"
      ],
      "metadata": {
        "id": "3NGCkCCc5nLL"
      }
    },
    {
      "cell_type": "code",
      "source": [
        "# PREPROCESSING DATI\n",
        "# Trattamento dei dati tramite regex\n",
        "\n",
        "def noise_remover(text):\n",
        "    text2 = re.sub('<[^>]*>', '', text)  # remove html tags\n",
        "    text2 = re.sub('[^\\w\\s\\d]', ' ', text2)  # remove punctuations by negating chars, spaces, and digits\n",
        "    text2 = re.sub('\\s+', ' ', text2)  # remove consecutive spaces\n",
        "    print(text2)\n",
        "    return text2\n",
        "\n",
        "\n",
        "# Rimozione rumore\n",
        "# Utilizzo tqdm per monitorare l'avanzamento\n",
        "\n",
        "x_train_text_processed = []\n",
        "for el in x_train_text:\n",
        "  x_train_text_processed.append(noise_remover(el))\n",
        "\n",
        "x_validation_text_processed = []\n",
        "for el in x_validation_text:\n",
        "  x_validation_text_processed.append(noise_remover(el))\n",
        "\n",
        "x_train_text_processed = []\n",
        "for el in x_test_text:\n",
        "  x_train_text_processed.append(noise_remover(el))\n",
        "\n",
        "\n",
        "#print(\"-----------\\n\" + x_test_text[1])"
      ],
      "metadata": {
        "id": "3Z_RyrMp5pE1",
        "outputId": "f3b7386f-d59f-4ce2-9529-df9adb4491a0",
        "colab": {
          "base_uri": "https://localhost:8080/"
        }
      },
      "execution_count": 11,
      "outputs": [
        {
          "output_type": "stream",
          "name": "stdout",
          "text": [
            "BACKGROUND OF THE INVENTION \n",
            "     In fire trucks and similar apparatus, it is common practice to provide a plurality of fire fighting agents that may be used selectively, depending on the type of fire encountered. For instance, in some types of fire it is desirable to use a foam, whereas with other types it is desirable to use a powder. It is desirable to connect these two agents to a common nozzle, so that the selection of agent may be made at the point of use. The operator may wish to use the agents separately, as experience dictates, to extinguish the fire. It is on occasion desirable to use both agents at the same time. My U.S. Pat. No. 4,030,666, which issued on June 21, 1977, shows a construction for performing these functions in response to a trigger mechanism. It is desirable on occasion, however, to provide a very simple construction in which there are no small passages that can clog and interfere with the operation of the equipment and which present very little resistance to the flow of the fire fighting agent. These and other difficulties experienced with the prior art devices have been obviated in a novel manner by the present invention. \n",
            "     It is, therefore, an outstanding object of the invention to provide a nozzle for selective use with two fire fighting agents. \n",
            "     Another object of this invention is the provision of a fire fighting nozzle with two valves and two tubes formed in a single structure. \n",
            "     A further object of the present invention is the provision of a dual agent nozzle which is simple in construction, which is inexpensive to manufacture, and which is capable of a long life of useful service with a minimum of maintenance. \n",
            "     It is another object of the instant invention to provide a dual agent nozzle having valves which present little resistance to the flow of material. \n",
            "     A still further object of the invention is the provision of a fire fighting nozzle in which the valves are so constructed that they may receive the pressure of fire fighting agents continuously and indefinitely without damage. \n",
            "     It is a further object of the invention to provide a dual agent fire fighting nozzle having valve elements that are not easily corroded by the agents used. \n",
            "     It is a still further object of the invention to provide a fire fighting nozzle which can be held by the operator in one hand, while valve selectors are operated easily by the other hand. \n",
            "     It is another object to provide a dual action nozzle having double valves in which the &#34;open&#34; or &#34;closed&#34; condition of each valve is visually indicated by the operating handles. \n",
            "     With these and other objects in view, as will be apparent to those skilled in the art, the invention resides in the combination of parts set forth in the specification and covered by the claims appended hereto. \n",
            "     SUMMARY OF THE INVENTION \n",
            "     In general, the invention consists of a fire fighting nozzle having a main body with a pistol handle extending from the lower portion. The main body has upper and lower passages extending through it in spacedparallel relationship. A ball with a bore is located in each passage and mounted for rotation about a horizontal axis passing through the center of the ball perpendicular to the axis of the bore. A lever is pivotally mounted at the upper portion of the main body for rotating each ball from an operative position (where the bore is aligned with its passage) to an inoperative position (where the bore extends at a right angle to its passage). Means is provided for connecting one end of each of the passages to one of two different fire fighting agents and a tube extends from the other end of each passage to serve as an exit for the agent. \n",
            "     More specifically, the two levers are mounted side-by-side on a common pivotal axis which extends horizontally and is coincidental with the axis of rotation of the upper ball, one of the levers being directly connected to that ball. The other lever is connected by a gear train to the lower ball. The levers have broad plates extending toward each other and have straight vertical edges that lie adjacent each other midway between the levers. Each ball is provided with laterally-extending journals which are carried in corresponding bores in the main body and a polymer seal is mounted in each passage in contact with its ball. \n",
            "    \n",
            "    \n",
            "     BRIEF DESCRIPTION OF THE DRAWINGS \n",
            "     The character of the invention, however, may be best understood by reference to one of its structural forms as illustrated by the accompanying drawings, in which: \n",
            "     FIG. 1 is a perspective view of a fire fighting nozzle incorporating the principles of the present invention, \n",
            "     FIG. 2 is a side view of the nozzle with portions broken way, and \n",
            "     FIG. 3 is a sectional view of the nozzle taken on the line III--III of FIG. 2. \n",
            "    \n",
            "    \n",
            "     DESCRIPTION OF THE PREFERRED EMBODIMENT \n",
            "     Referring first to FIG. 1, wherein are best shown the general features of the invention, the fire fighting nozzle, indicated generally by the reference numeral 10, is shown as having a main body 11 from the lower portion of which extends a pistol grip handle 12. On one side of the main body extend an upper and a lower exit tube 26 and 27. To the other side of the main body are attached hoses 22 and 23 which are connected to the main body by means of couplings 25 and 24, respectively. The hose 22 is connected to a source of foam under pressure, while the hose 23 is connected to a source of powder under pressure. Pivotally mounted to the upper portion of the main body 11 are two levers 19 and 21 provided with broad plates 32 and 33, respectively. Extending from the lower part of the lower tube 27 is a handle 44 which is joined by a connecting rod 45 to a regulating vane 46 at the exit end of the tube. \n",
            "     In FIGS. 2 and 3 it can be seen that the main body 11 is provided with an upper passage 13 and a lower passage 14, these passages extending through the main body in spaced-parallel relationship. The passage 13 connects the coupling 24 to the tube 26 and the passage 14 connects the coupling 25 to the tube 27. A ball 15 is mounted in the passage 13, while a ball 16 is mounted in the passage 14. The ball 15 has a bore 17, while the ball 16 has a bore 18 extending through it, each bore having an axis which is co-incidental with the center of the ball. Each ball is mounted for rotation about its own horizontal axis passing through the center of the ball and perpendicular to the axis of its bore. \n",
            "     The lever 21, which is pivotally mounted at the upper portion of the main body 11, is directly connected to the ball 15 for rotating the ball from an &#34;operative&#34; position, wherein the bore 17 is aligned with the passage 13, to an &#34;inoperative&#34; position in which the bore is at a right angle to the passage. Similarly, the lever 19 is also pivotally mounted at the upper portion of the main body 11 and serves to rotate the ball 16 in the same way from an inoperative position to an operative position. The two levers are mounted in side-by-side position and are pivoted on a common pivotal axis A--A which extends horizontally at a right angle to the axis of the passage 13. More specifically, the pivotal axis A--A of the levers 19 and 21 is co-incidental with the axis of rotation of the upper ball 15 and the lever 21 is directly connected to that ball. The lever 19 is connected by a gear train, consisting of gears 28, 29, and 31 to the ball 16. The levers 19 and 21 are mounted on opposite sides of the main body 11 and extend upwardly therefrom. The lever 19 has a plate 32 extending inwardly thereof, while the lever 21 has a similar plate 32 extending inwardly. These plates have vertical edges 34 and 35, respectively, that lie in closely-spaced parallel relationship. \n",
            "     The ball 15 is provided with laterally-extending journals 36 and 37 which lie in a corresponding bore 38 which extends across the main body at a right angle to the passage 13. This journal consists of a large portion having a cylindrical surface provided with an O-ring carried in the bore and a smaller portion which joins it to the ball 15 itself. The ball 16 is similarly provided with journals 41 and 42 which lie in a bore 43 extending transversely across through the main body 11 at a right angle to the passage 14. The ball 16 is provided with a polymer seal 39 mounted in the passage 14 in contact with the ball and a similar seal (not shown) is provided for the upper ball 15. \n",
            "     The operation and the advantages of the invention will now be readily understood in view of the above description. During operation, pressurized foam appears at the hose 22 at all times and is transmitted through the coupling 25 and the passage 14 and bore 18 to the tube 27 on occasion. Similarly, pressurized powder appears in the hose 23 and can be transmitted through the coupling 24 and the passage 13 and bore 17 to the tube 26 when desired. When the levers 19 and 21 are in the rearmost position (shown out of positing in the drawings), the bores 17 and 18 are aligned with their passages 13 and 14, respectively, and the fire fighting agent passes through. When the lever 21 is rotated to its most forward position, the bore 17 is rotated out of alignment with the passage and no agent can flow through the exit tube 26. The lever 21 is securely fastened to the outer end of the journal 36, so that the journal and the ball 15 rotate with the handle. Similarly, the rotation of the lever 19 operates through the trains of gears 28, 29, and 31 to rotate the journal 42 and, consequently, the ball 16. This rotation causes the bore 18 to move out of alignment with the passage 14, so that agent cannot pass through into the tube 27. The broad surfaces of the plates 32 and 33 not only provide a suitable place for indicia to show the type of agent used, but also provide for secure grasping of the lever even when the operator&#39;s hands are slippery and act as a handle stop in the two directions. The normal operation of the nozzle would be to grasp it by the handle 12 with the right-hand and to operate the levers 19 and 21 with the left-hand. After the valves have been adjusted, the handle 44 is grasped with the left-hand, which is also capable of adjusting the shape of the foam stream by operating through the connecting rod 45 to move the vane 46. \n",
            "     It can be seen, then, that the present device involves very simple inexpensive equipment for accomplishing its purpose. The fact that the levers 19 and 21 extend upwardly from the upper part of the main body 11 provides for convenient control of the operation, allowing the operator to switch from one agent to another very readily or to operate with both agents together. The passages are large and extend straight through the apparatus, so that they are not easily subject to clogging. Furthermore, the parts can be readily disassembled for cleaning. \n",
            "     It is obvious that minor changes may be made in the construction of the invention without departing from the material spirit thereof. It is not, however, desired to confine the invention to the exact form herein shown and described, but it is desired to include all such as properly come within the scope claimed.\n",
            "BACKGROUND OF THE INVENTION In fire trucks and similar apparatus it is common practice to provide a plurality of fire fighting agents that may be used selectively depending on the type of fire encountered For instance in some types of fire it is desirable to use a foam whereas with other types it is desirable to use a powder It is desirable to connect these two agents to a common nozzle so that the selection of agent may be made at the point of use The operator may wish to use the agents separately as experience dictates to extinguish the fire It is on occasion desirable to use both agents at the same time My U S Pat No 4 030 666 which issued on June 21 1977 shows a construction for performing these functions in response to a trigger mechanism It is desirable on occasion however to provide a very simple construction in which there are no small passages that can clog and interfere with the operation of the equipment and which present very little resistance to the flow of the fire fighting agent These and other difficulties experienced with the prior art devices have been obviated in a novel manner by the present invention It is therefore an outstanding object of the invention to provide a nozzle for selective use with two fire fighting agents Another object of this invention is the provision of a fire fighting nozzle with two valves and two tubes formed in a single structure A further object of the present invention is the provision of a dual agent nozzle which is simple in construction which is inexpensive to manufacture and which is capable of a long life of useful service with a minimum of maintenance It is another object of the instant invention to provide a dual agent nozzle having valves which present little resistance to the flow of material A still further object of the invention is the provision of a fire fighting nozzle in which the valves are so constructed that they may receive the pressure of fire fighting agents continuously and indefinitely without damage It is a further object of the invention to provide a dual agent fire fighting nozzle having valve elements that are not easily corroded by the agents used It is a still further object of the invention to provide a fire fighting nozzle which can be held by the operator in one hand while valve selectors are operated easily by the other hand It is another object to provide a dual action nozzle having double valves in which the 34 open 34 or 34 closed 34 condition of each valve is visually indicated by the operating handles With these and other objects in view as will be apparent to those skilled in the art the invention resides in the combination of parts set forth in the specification and covered by the claims appended hereto SUMMARY OF THE INVENTION In general the invention consists of a fire fighting nozzle having a main body with a pistol handle extending from the lower portion The main body has upper and lower passages extending through it in spacedparallel relationship A ball with a bore is located in each passage and mounted for rotation about a horizontal axis passing through the center of the ball perpendicular to the axis of the bore A lever is pivotally mounted at the upper portion of the main body for rotating each ball from an operative position where the bore is aligned with its passage to an inoperative position where the bore extends at a right angle to its passage Means is provided for connecting one end of each of the passages to one of two different fire fighting agents and a tube extends from the other end of each passage to serve as an exit for the agent More specifically the two levers are mounted side by side on a common pivotal axis which extends horizontally and is coincidental with the axis of rotation of the upper ball one of the levers being directly connected to that ball The other lever is connected by a gear train to the lower ball The levers have broad plates extending toward each other and have straight vertical edges that lie adjacent each other midway between the levers Each ball is provided with laterally extending journals which are carried in corresponding bores in the main body and a polymer seal is mounted in each passage in contact with its ball BRIEF DESCRIPTION OF THE DRAWINGS The character of the invention however may be best understood by reference to one of its structural forms as illustrated by the accompanying drawings in which FIG 1 is a perspective view of a fire fighting nozzle incorporating the principles of the present invention FIG 2 is a side view of the nozzle with portions broken way and FIG 3 is a sectional view of the nozzle taken on the line III III of FIG 2 DESCRIPTION OF THE PREFERRED EMBODIMENT Referring first to FIG 1 wherein are best shown the general features of the invention the fire fighting nozzle indicated generally by the reference numeral 10 is shown as having a main body 11 from the lower portion of which extends a pistol grip handle 12 On one side of the main body extend an upper and a lower exit tube 26 and 27 To the other side of the main body are attached hoses 22 and 23 which are connected to the main body by means of couplings 25 and 24 respectively The hose 22 is connected to a source of foam under pressure while the hose 23 is connected to a source of powder under pressure Pivotally mounted to the upper portion of the main body 11 are two levers 19 and 21 provided with broad plates 32 and 33 respectively Extending from the lower part of the lower tube 27 is a handle 44 which is joined by a connecting rod 45 to a regulating vane 46 at the exit end of the tube In FIGS 2 and 3 it can be seen that the main body 11 is provided with an upper passage 13 and a lower passage 14 these passages extending through the main body in spaced parallel relationship The passage 13 connects the coupling 24 to the tube 26 and the passage 14 connects the coupling 25 to the tube 27 A ball 15 is mounted in the passage 13 while a ball 16 is mounted in the passage 14 The ball 15 has a bore 17 while the ball 16 has a bore 18 extending through it each bore having an axis which is co incidental with the center of the ball Each ball is mounted for rotation about its own horizontal axis passing through the center of the ball and perpendicular to the axis of its bore The lever 21 which is pivotally mounted at the upper portion of the main body 11 is directly connected to the ball 15 for rotating the ball from an 34 operative 34 position wherein the bore 17 is aligned with the passage 13 to an 34 inoperative 34 position in which the bore is at a right angle to the passage Similarly the lever 19 is also pivotally mounted at the upper portion of the main body 11 and serves to rotate the ball 16 in the same way from an inoperative position to an operative position The two levers are mounted in side by side position and are pivoted on a common pivotal axis A A which extends horizontally at a right angle to the axis of the passage 13 More specifically the pivotal axis A A of the levers 19 and 21 is co incidental with the axis of rotation of the upper ball 15 and the lever 21 is directly connected to that ball The lever 19 is connected by a gear train consisting of gears 28 29 and 31 to the ball 16 The levers 19 and 21 are mounted on opposite sides of the main body 11 and extend upwardly therefrom The lever 19 has a plate 32 extending inwardly thereof while the lever 21 has a similar plate 32 extending inwardly These plates have vertical edges 34 and 35 respectively that lie in closely spaced parallel relationship The ball 15 is provided with laterally extending journals 36 and 37 which lie in a corresponding bore 38 which extends across the main body at a right angle to the passage 13 This journal consists of a large portion having a cylindrical surface provided with an O ring carried in the bore and a smaller portion which joins it to the ball 15 itself The ball 16 is similarly provided with journals 41 and 42 which lie in a bore 43 extending transversely across through the main body 11 at a right angle to the passage 14 The ball 16 is provided with a polymer seal 39 mounted in the passage 14 in contact with the ball and a similar seal not shown is provided for the upper ball 15 The operation and the advantages of the invention will now be readily understood in view of the above description During operation pressurized foam appears at the hose 22 at all times and is transmitted through the coupling 25 and the passage 14 and bore 18 to the tube 27 on occasion Similarly pressurized powder appears in the hose 23 and can be transmitted through the coupling 24 and the passage 13 and bore 17 to the tube 26 when desired When the levers 19 and 21 are in the rearmost position shown out of positing in the drawings the bores 17 and 18 are aligned with their passages 13 and 14 respectively and the fire fighting agent passes through When the lever 21 is rotated to its most forward position the bore 17 is rotated out of alignment with the passage and no agent can flow through the exit tube 26 The lever 21 is securely fastened to the outer end of the journal 36 so that the journal and the ball 15 rotate with the handle Similarly the rotation of the lever 19 operates through the trains of gears 28 29 and 31 to rotate the journal 42 and consequently the ball 16 This rotation causes the bore 18 to move out of alignment with the passage 14 so that agent cannot pass through into the tube 27 The broad surfaces of the plates 32 and 33 not only provide a suitable place for indicia to show the type of agent used but also provide for secure grasping of the lever even when the operator 39 s hands are slippery and act as a handle stop in the two directions The normal operation of the nozzle would be to grasp it by the handle 12 with the right hand and to operate the levers 19 and 21 with the left hand After the valves have been adjusted the handle 44 is grasped with the left hand which is also capable of adjusting the shape of the foam stream by operating through the connecting rod 45 to move the vane 46 It can be seen then that the present device involves very simple inexpensive equipment for accomplishing its purpose The fact that the levers 19 and 21 extend upwardly from the upper part of the main body 11 provides for convenient control of the operation allowing the operator to switch from one agent to another very readily or to operate with both agents together The passages are large and extend straight through the apparatus so that they are not easily subject to clogging Furthermore the parts can be readily disassembled for cleaning It is obvious that minor changes may be made in the construction of the invention without departing from the material spirit thereof It is not however desired to confine the invention to the exact form herein shown and described but it is desired to include all such as properly come within the scope claimed \n"
          ]
        }
      ]
    },
    {
      "cell_type": "markdown",
      "source": [
        "TOKENIZZAZIONE"
      ],
      "metadata": {
        "id": "NUKXIy_ouY_A"
      }
    },
    {
      "cell_type": "code",
      "source": [],
      "metadata": {
        "id": "uQH_UlFeubOf"
      },
      "execution_count": null,
      "outputs": []
    }
  ]
}