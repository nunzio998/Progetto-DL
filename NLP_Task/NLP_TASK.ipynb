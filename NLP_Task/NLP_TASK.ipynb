{
  "nbformat": 4,
  "nbformat_minor": 0,
  "metadata": {
    "colab": {
      "provenance": []
    },
    "kernelspec": {
      "name": "python3",
      "display_name": "Python 3"
    },
    "language_info": {
      "name": "python"
    },
    "widgets": {
      "application/vnd.jupyter.widget-state+json": {
        "60ef8b559cfb41619e90458ebc6bc8a7": {
          "model_module": "@jupyter-widgets/controls",
          "model_name": "HBoxModel",
          "model_module_version": "1.5.0",
          "state": {
            "_dom_classes": [],
            "_model_module": "@jupyter-widgets/controls",
            "_model_module_version": "1.5.0",
            "_model_name": "HBoxModel",
            "_view_count": null,
            "_view_module": "@jupyter-widgets/controls",
            "_view_module_version": "1.5.0",
            "_view_name": "HBoxView",
            "box_style": "",
            "children": [
              "IPY_MODEL_fefdaf76a4fc495dabe26efbd3180928",
              "IPY_MODEL_2552bf229a034da5ad6d3547e210aa33",
              "IPY_MODEL_4e4ebb02a09b4a81bc39609b6a6637b2"
            ],
            "layout": "IPY_MODEL_c342b30c2e8c45e5a7e3ec2d71632a2e"
          }
        },
        "fefdaf76a4fc495dabe26efbd3180928": {
          "model_module": "@jupyter-widgets/controls",
          "model_name": "HTMLModel",
          "model_module_version": "1.5.0",
          "state": {
            "_dom_classes": [],
            "_model_module": "@jupyter-widgets/controls",
            "_model_module_version": "1.5.0",
            "_model_name": "HTMLModel",
            "_view_count": null,
            "_view_module": "@jupyter-widgets/controls",
            "_view_module_version": "1.5.0",
            "_view_name": "HTMLView",
            "description": "",
            "description_tooltip": null,
            "layout": "IPY_MODEL_aca22459cdc84e10aacb5843189713a6",
            "placeholder": "​",
            "style": "IPY_MODEL_66f9f7afe0bd4366b26fac5ecb553dcc",
            "value": "Loading dataset shards: 100%"
          }
        },
        "2552bf229a034da5ad6d3547e210aa33": {
          "model_module": "@jupyter-widgets/controls",
          "model_name": "FloatProgressModel",
          "model_module_version": "1.5.0",
          "state": {
            "_dom_classes": [],
            "_model_module": "@jupyter-widgets/controls",
            "_model_module_version": "1.5.0",
            "_model_name": "FloatProgressModel",
            "_view_count": null,
            "_view_module": "@jupyter-widgets/controls",
            "_view_module_version": "1.5.0",
            "_view_name": "ProgressView",
            "bar_style": "success",
            "description": "",
            "description_tooltip": null,
            "layout": "IPY_MODEL_433320185e844a558ae4a805fff3e697",
            "max": 75,
            "min": 0,
            "orientation": "horizontal",
            "style": "IPY_MODEL_e4c04624b8c64a579857ed04d38f7501",
            "value": 75
          }
        },
        "4e4ebb02a09b4a81bc39609b6a6637b2": {
          "model_module": "@jupyter-widgets/controls",
          "model_name": "HTMLModel",
          "model_module_version": "1.5.0",
          "state": {
            "_dom_classes": [],
            "_model_module": "@jupyter-widgets/controls",
            "_model_module_version": "1.5.0",
            "_model_name": "HTMLModel",
            "_view_count": null,
            "_view_module": "@jupyter-widgets/controls",
            "_view_module_version": "1.5.0",
            "_view_name": "HTMLView",
            "description": "",
            "description_tooltip": null,
            "layout": "IPY_MODEL_d1fb601b219e4171906a1b33bcea0b55",
            "placeholder": "​",
            "style": "IPY_MODEL_66dbdd037eb34a37a93805152609715b",
            "value": " 75/75 [00:11&lt;00:00,  8.48it/s]"
          }
        },
        "c342b30c2e8c45e5a7e3ec2d71632a2e": {
          "model_module": "@jupyter-widgets/base",
          "model_name": "LayoutModel",
          "model_module_version": "1.2.0",
          "state": {
            "_model_module": "@jupyter-widgets/base",
            "_model_module_version": "1.2.0",
            "_model_name": "LayoutModel",
            "_view_count": null,
            "_view_module": "@jupyter-widgets/base",
            "_view_module_version": "1.2.0",
            "_view_name": "LayoutView",
            "align_content": null,
            "align_items": null,
            "align_self": null,
            "border": null,
            "bottom": null,
            "display": null,
            "flex": null,
            "flex_flow": null,
            "grid_area": null,
            "grid_auto_columns": null,
            "grid_auto_flow": null,
            "grid_auto_rows": null,
            "grid_column": null,
            "grid_gap": null,
            "grid_row": null,
            "grid_template_areas": null,
            "grid_template_columns": null,
            "grid_template_rows": null,
            "height": null,
            "justify_content": null,
            "justify_items": null,
            "left": null,
            "margin": null,
            "max_height": null,
            "max_width": null,
            "min_height": null,
            "min_width": null,
            "object_fit": null,
            "object_position": null,
            "order": null,
            "overflow": null,
            "overflow_x": null,
            "overflow_y": null,
            "padding": null,
            "right": null,
            "top": null,
            "visibility": null,
            "width": null
          }
        },
        "aca22459cdc84e10aacb5843189713a6": {
          "model_module": "@jupyter-widgets/base",
          "model_name": "LayoutModel",
          "model_module_version": "1.2.0",
          "state": {
            "_model_module": "@jupyter-widgets/base",
            "_model_module_version": "1.2.0",
            "_model_name": "LayoutModel",
            "_view_count": null,
            "_view_module": "@jupyter-widgets/base",
            "_view_module_version": "1.2.0",
            "_view_name": "LayoutView",
            "align_content": null,
            "align_items": null,
            "align_self": null,
            "border": null,
            "bottom": null,
            "display": null,
            "flex": null,
            "flex_flow": null,
            "grid_area": null,
            "grid_auto_columns": null,
            "grid_auto_flow": null,
            "grid_auto_rows": null,
            "grid_column": null,
            "grid_gap": null,
            "grid_row": null,
            "grid_template_areas": null,
            "grid_template_columns": null,
            "grid_template_rows": null,
            "height": null,
            "justify_content": null,
            "justify_items": null,
            "left": null,
            "margin": null,
            "max_height": null,
            "max_width": null,
            "min_height": null,
            "min_width": null,
            "object_fit": null,
            "object_position": null,
            "order": null,
            "overflow": null,
            "overflow_x": null,
            "overflow_y": null,
            "padding": null,
            "right": null,
            "top": null,
            "visibility": null,
            "width": null
          }
        },
        "66f9f7afe0bd4366b26fac5ecb553dcc": {
          "model_module": "@jupyter-widgets/controls",
          "model_name": "DescriptionStyleModel",
          "model_module_version": "1.5.0",
          "state": {
            "_model_module": "@jupyter-widgets/controls",
            "_model_module_version": "1.5.0",
            "_model_name": "DescriptionStyleModel",
            "_view_count": null,
            "_view_module": "@jupyter-widgets/base",
            "_view_module_version": "1.2.0",
            "_view_name": "StyleView",
            "description_width": ""
          }
        },
        "433320185e844a558ae4a805fff3e697": {
          "model_module": "@jupyter-widgets/base",
          "model_name": "LayoutModel",
          "model_module_version": "1.2.0",
          "state": {
            "_model_module": "@jupyter-widgets/base",
            "_model_module_version": "1.2.0",
            "_model_name": "LayoutModel",
            "_view_count": null,
            "_view_module": "@jupyter-widgets/base",
            "_view_module_version": "1.2.0",
            "_view_name": "LayoutView",
            "align_content": null,
            "align_items": null,
            "align_self": null,
            "border": null,
            "bottom": null,
            "display": null,
            "flex": null,
            "flex_flow": null,
            "grid_area": null,
            "grid_auto_columns": null,
            "grid_auto_flow": null,
            "grid_auto_rows": null,
            "grid_column": null,
            "grid_gap": null,
            "grid_row": null,
            "grid_template_areas": null,
            "grid_template_columns": null,
            "grid_template_rows": null,
            "height": null,
            "justify_content": null,
            "justify_items": null,
            "left": null,
            "margin": null,
            "max_height": null,
            "max_width": null,
            "min_height": null,
            "min_width": null,
            "object_fit": null,
            "object_position": null,
            "order": null,
            "overflow": null,
            "overflow_x": null,
            "overflow_y": null,
            "padding": null,
            "right": null,
            "top": null,
            "visibility": null,
            "width": null
          }
        },
        "e4c04624b8c64a579857ed04d38f7501": {
          "model_module": "@jupyter-widgets/controls",
          "model_name": "ProgressStyleModel",
          "model_module_version": "1.5.0",
          "state": {
            "_model_module": "@jupyter-widgets/controls",
            "_model_module_version": "1.5.0",
            "_model_name": "ProgressStyleModel",
            "_view_count": null,
            "_view_module": "@jupyter-widgets/base",
            "_view_module_version": "1.2.0",
            "_view_name": "StyleView",
            "bar_color": null,
            "description_width": ""
          }
        },
        "d1fb601b219e4171906a1b33bcea0b55": {
          "model_module": "@jupyter-widgets/base",
          "model_name": "LayoutModel",
          "model_module_version": "1.2.0",
          "state": {
            "_model_module": "@jupyter-widgets/base",
            "_model_module_version": "1.2.0",
            "_model_name": "LayoutModel",
            "_view_count": null,
            "_view_module": "@jupyter-widgets/base",
            "_view_module_version": "1.2.0",
            "_view_name": "LayoutView",
            "align_content": null,
            "align_items": null,
            "align_self": null,
            "border": null,
            "bottom": null,
            "display": null,
            "flex": null,
            "flex_flow": null,
            "grid_area": null,
            "grid_auto_columns": null,
            "grid_auto_flow": null,
            "grid_auto_rows": null,
            "grid_column": null,
            "grid_gap": null,
            "grid_row": null,
            "grid_template_areas": null,
            "grid_template_columns": null,
            "grid_template_rows": null,
            "height": null,
            "justify_content": null,
            "justify_items": null,
            "left": null,
            "margin": null,
            "max_height": null,
            "max_width": null,
            "min_height": null,
            "min_width": null,
            "object_fit": null,
            "object_position": null,
            "order": null,
            "overflow": null,
            "overflow_x": null,
            "overflow_y": null,
            "padding": null,
            "right": null,
            "top": null,
            "visibility": null,
            "width": null
          }
        },
        "66dbdd037eb34a37a93805152609715b": {
          "model_module": "@jupyter-widgets/controls",
          "model_name": "DescriptionStyleModel",
          "model_module_version": "1.5.0",
          "state": {
            "_model_module": "@jupyter-widgets/controls",
            "_model_module_version": "1.5.0",
            "_model_name": "DescriptionStyleModel",
            "_view_count": null,
            "_view_module": "@jupyter-widgets/base",
            "_view_module_version": "1.2.0",
            "_view_name": "StyleView",
            "description_width": ""
          }
        }
      }
    }
  },
  "cells": [
    {
      "cell_type": "markdown",
      "source": [
        "IMPORT"
      ],
      "metadata": {
        "id": "fAIClo5r4sXs"
      }
    },
    {
      "cell_type": "code",
      "execution_count": 2,
      "metadata": {
        "id": "MBRq51xs4oL2"
      },
      "outputs": [],
      "source": [
        "import torch\n",
        "from transformers import BertTokenizer, BertForSequenceClassification, AdamW\n",
        "from torch.utils.data import DataLoader, Dataset\n",
        "import re"
      ]
    },
    {
      "cell_type": "markdown",
      "source": [
        "LOAD DATASET"
      ],
      "metadata": {
        "id": "u1AbCSoI5AaR"
      }
    },
    {
      "cell_type": "code",
      "source": [
        "%%capture\n",
        "!pip install datasets"
      ],
      "metadata": {
        "id": "UbsmpINX6AcD"
      },
      "execution_count": 3,
      "outputs": []
    },
    {
      "cell_type": "code",
      "source": [
        "# Load del dataset\n",
        "from datasets import load_dataset\n",
        "\n",
        "ds = load_dataset(\"big_patent\")"
      ],
      "metadata": {
        "colab": {
          "base_uri": "https://localhost:8080/",
          "height": 243,
          "referenced_widgets": [
            "60ef8b559cfb41619e90458ebc6bc8a7",
            "fefdaf76a4fc495dabe26efbd3180928",
            "2552bf229a034da5ad6d3547e210aa33",
            "4e4ebb02a09b4a81bc39609b6a6637b2",
            "c342b30c2e8c45e5a7e3ec2d71632a2e",
            "aca22459cdc84e10aacb5843189713a6",
            "66f9f7afe0bd4366b26fac5ecb553dcc",
            "433320185e844a558ae4a805fff3e697",
            "e4c04624b8c64a579857ed04d38f7501",
            "d1fb601b219e4171906a1b33bcea0b55",
            "66dbdd037eb34a37a93805152609715b"
          ]
        },
        "id": "2-lWRUXC4_rU",
        "outputId": "03928a38-bde3-45bc-8002-013f40fe598a"
      },
      "execution_count": 4,
      "outputs": [
        {
          "output_type": "stream",
          "name": "stderr",
          "text": [
            "/usr/local/lib/python3.10/dist-packages/huggingface_hub/utils/_token.py:88: UserWarning: \n",
            "The secret `HF_TOKEN` does not exist in your Colab secrets.\n",
            "To authenticate with the Hugging Face Hub, create a token in your settings tab (https://huggingface.co/settings/tokens), set it as secret in your Google Colab and restart your session.\n",
            "You will be able to reuse this secret in all of your notebooks.\n",
            "Please note that authentication is recommended but still optional to access public models or datasets.\n",
            "  warnings.warn(\n",
            "/usr/local/lib/python3.10/dist-packages/datasets/load.py:1461: FutureWarning: The repository for big_patent contains custom code which must be executed to correctly load the dataset. You can inspect the repository content at https://hf.co/datasets/big_patent\n",
            "You can avoid this message in future by passing the argument `trust_remote_code=True`.\n",
            "Passing `trust_remote_code=True` will be mandatory to load this dataset from the next major release of `datasets`.\n",
            "  warnings.warn(\n"
          ]
        },
        {
          "output_type": "display_data",
          "data": {
            "text/plain": [
              "Loading dataset shards:   0%|          | 0/75 [00:00<?, ?it/s]"
            ],
            "application/vnd.jupyter.widget-view+json": {
              "version_major": 2,
              "version_minor": 0,
              "model_id": "60ef8b559cfb41619e90458ebc6bc8a7"
            }
          },
          "metadata": {}
        }
      ]
    },
    {
      "cell_type": "markdown",
      "source": [
        "VISUALIZZAZIONE DATASET"
      ],
      "metadata": {
        "id": "tWt9b3Ta5IHX"
      }
    },
    {
      "cell_type": "code",
      "source": [
        "# Visualizzazione dataset\n",
        "print(ds)\n",
        "# print(ds[\"test\"][\"description\"][1])\n",
        "# print(\"\\n\" + ds[\"test\"][\"abstract\"][1])"
      ],
      "metadata": {
        "colab": {
          "base_uri": "https://localhost:8080/"
        },
        "id": "42sq3xp05LPF",
        "outputId": "51df6755-6025-4401-f10e-77137b08e5da"
      },
      "execution_count": 5,
      "outputs": [
        {
          "output_type": "stream",
          "name": "stdout",
          "text": [
            "DatasetDict({\n",
            "    train: Dataset({\n",
            "        features: ['description', 'abstract'],\n",
            "        num_rows: 1207222\n",
            "    })\n",
            "    validation: Dataset({\n",
            "        features: ['description', 'abstract'],\n",
            "        num_rows: 67068\n",
            "    })\n",
            "    test: Dataset({\n",
            "        features: ['description', 'abstract'],\n",
            "        num_rows: 67072\n",
            "    })\n",
            "})\n"
          ]
        }
      ]
    },
    {
      "cell_type": "markdown",
      "source": [
        "TRAIN/TEST SPLIT DATASET"
      ],
      "metadata": {
        "id": "zp6Ut7iL5e_W"
      }
    },
    {
      "cell_type": "code",
      "source": [
        "# Split del dataset\n",
        "\n",
        "x_train_text = ds['train']['description']\n",
        "y_train = ds['train']['abstract']"
      ],
      "metadata": {
        "id": "EtjU486z5g-B"
      },
      "execution_count": null,
      "outputs": []
    },
    {
      "cell_type": "code",
      "source": [
        "x_validation_text = ds['validation']['description']\n",
        "y_validation = ds['validation']['abstract']"
      ],
      "metadata": {
        "id": "mZIIFw0SstJV"
      },
      "execution_count": null,
      "outputs": []
    },
    {
      "cell_type": "code",
      "source": [
        "x_test_text = ds['test']['description']\n",
        "y_test = ds['test']['abstract']\n",
        "#print(\"-----------\\n\" + x_test_text[1])"
      ],
      "metadata": {
        "id": "9PlJyup9strs"
      },
      "execution_count": null,
      "outputs": []
    },
    {
      "cell_type": "markdown",
      "source": [
        "# PREPROCESSING DATI"
      ],
      "metadata": {
        "id": "3NGCkCCc5nLL"
      }
    },
    {
      "cell_type": "markdown",
      "source": [
        "TEXT CLEANING\n",
        "\n",
        "\n",
        "*   HTML tags\n",
        "*   punctuations by negating chars, spaces, and digits\n",
        "*   consecutive spaces\n",
        "\n",
        "\n",
        "\n"
      ],
      "metadata": {
        "id": "Ufp5Y6YaS1tP"
      }
    },
    {
      "cell_type": "code",
      "source": [
        "# Trattamento dei dati tramite regex\n",
        "\n",
        "def noise_remover(text):\n",
        "    text2 = re.sub('<[^>]*>', '', text)  # remove html tags\n",
        "    text2 = re.sub('[^\\w\\s\\d]', ' ', text2)  # remove punctuations by negating chars, spaces, and digits\n",
        "    text2 = re.sub('\\s+', ' ', text2)  # remove consecutive spaces\n",
        "    #print(text2)\n",
        "    return text2\n",
        "\n",
        "\n",
        "# Rimozione rumore\n",
        "# Utilizzo tqdm per monitorare l'avanzamento\n",
        "\n",
        "#x_train_text_processed = []\n",
        "#for el in x_train_text:\n",
        "  #x_train_text_processed.append(noise_remover(el))\n",
        "\n",
        "x_validation_text_processed = []\n",
        "for el in x_validation_text:\n",
        "  x_validation_text_processed.append(noise_remover(el))\n",
        "\n",
        "#x_test_text_processed = []\n",
        "#for el in x_test_text:\n",
        "  #x_test_text_processed.append(noise_remover(el))\n",
        "\n",
        "\n",
        "#print(\"-----------\\n\" + x_test_text[1])"
      ],
      "metadata": {
        "id": "3Z_RyrMp5pE1"
      },
      "execution_count": 7,
      "outputs": []
    },
    {
      "cell_type": "markdown",
      "source": [
        "TOKENIZZAZIONE"
      ],
      "metadata": {
        "id": "NUKXIy_ouY_A"
      }
    },
    {
      "cell_type": "code",
      "source": [
        "%%capture\n",
        "!pip install nltk"
      ],
      "metadata": {
        "id": "uQH_UlFeubOf"
      },
      "execution_count": 8,
      "outputs": []
    },
    {
      "cell_type": "code",
      "source": [
        "import nltk\n",
        "from nltk.tokenize import word_tokenize\n",
        "# Download the Punkt tokenizer model\n",
        "nltk.download('punkt')\n",
        "\n",
        "#x_train_text_tokenized = []\n",
        "#for el in x_train_text_processed:\n",
        "  #x_train_text_tokenized.append(word_tokenize(el))\n",
        "\n",
        "x_validation_text_tokenized = []\n",
        "for el in x_validation_text_processed:\n",
        "  x_validation_text_tokenized.append(word_tokenize(el))\n",
        "\n",
        "#x_test_text_tokenized = []\n",
        "#for el in x_test_text_processed:\n",
        "  #x_test_text_tokenized.append(word_tokenize(el))\n",
        "\n",
        "print(x_validation_text_processed[1] + \"\\n---------------------------------------------------------\\n\")\n",
        "print(x_validation_text_tokenized[1]) # print the list of tokens"
      ],
      "metadata": {
        "id": "IkqKqz_dwS4R",
        "outputId": "77f9ffc5-0dcf-464a-8c80-7449bf9f9bc0",
        "colab": {
          "base_uri": "https://localhost:8080/",
          "height": 245
        }
      },
      "execution_count": 1,
      "outputs": [
        {
          "output_type": "stream",
          "name": "stderr",
          "text": [
            "[nltk_data] Downloading package punkt to /root/nltk_data...\n",
            "[nltk_data]   Package punkt is already up-to-date!\n"
          ]
        },
        {
          "output_type": "error",
          "ename": "NameError",
          "evalue": "name 'x_validation_text_processed' is not defined",
          "traceback": [
            "\u001b[0;31m---------------------------------------------------------------------------\u001b[0m",
            "\u001b[0;31mNameError\u001b[0m                                 Traceback (most recent call last)",
            "\u001b[0;32m<ipython-input-1-ee1c02933268>\u001b[0m in \u001b[0;36m<cell line: 11>\u001b[0;34m()\u001b[0m\n\u001b[1;32m      9\u001b[0m \u001b[0;34m\u001b[0m\u001b[0m\n\u001b[1;32m     10\u001b[0m \u001b[0mx_validation_text_tokenized\u001b[0m \u001b[0;34m=\u001b[0m \u001b[0;34m[\u001b[0m\u001b[0;34m]\u001b[0m\u001b[0;34m\u001b[0m\u001b[0;34m\u001b[0m\u001b[0m\n\u001b[0;32m---> 11\u001b[0;31m \u001b[0;32mfor\u001b[0m \u001b[0mel\u001b[0m \u001b[0;32min\u001b[0m \u001b[0mx_validation_text_processed\u001b[0m\u001b[0;34m:\u001b[0m\u001b[0;34m\u001b[0m\u001b[0;34m\u001b[0m\u001b[0m\n\u001b[0m\u001b[1;32m     12\u001b[0m   \u001b[0mx_validation_text_tokenized\u001b[0m\u001b[0;34m.\u001b[0m\u001b[0mappend\u001b[0m\u001b[0;34m(\u001b[0m\u001b[0mword_tokenize\u001b[0m\u001b[0;34m(\u001b[0m\u001b[0mel\u001b[0m\u001b[0;34m)\u001b[0m\u001b[0;34m)\u001b[0m\u001b[0;34m\u001b[0m\u001b[0;34m\u001b[0m\u001b[0m\n\u001b[1;32m     13\u001b[0m \u001b[0;34m\u001b[0m\u001b[0m\n",
            "\u001b[0;31mNameError\u001b[0m: name 'x_validation_text_processed' is not defined"
          ]
        }
      ]
    },
    {
      "cell_type": "markdown",
      "source": [
        "TEXT NORMALIZATION:\n",
        "Lowercasing, Stemming, Lemmatization and stop words removal"
      ],
      "metadata": {
        "id": "lZvNTFcYT9EM"
      }
    },
    {
      "cell_type": "code",
      "source": [
        "#STOP WORDS REMOVAL\n",
        "\n",
        "import nltk\n",
        "nltk.download('stopwords') # Download the stopwords module\n",
        "\n",
        "stopwords = nltk.corpus.stopwords.words(\n",
        "    \"english\"\n",
        ") # Get the list of stop words for English\n",
        "\n",
        "len(stopwords), stopwords[:10] # print stopwords\n",
        "\n"
      ],
      "metadata": {
        "id": "lww4BfenUD-F"
      },
      "execution_count": null,
      "outputs": []
    },
    {
      "cell_type": "code",
      "source": [
        "# STEMMING\n",
        "\n",
        "from nltk import LancasterStemmer\n",
        "\n",
        "# create an object of class LancasterStemmer\n",
        "lancaster = LancasterStemmer()\n",
        "\n",
        "#for el in x_train_text_processed:\n",
        "  #stemmed_tokens = [\n",
        "            #lancaster.stem(token.lower())  # Stemming\n",
        "            #for token in word_tokenize(el)  # Tokenize\n",
        "            #if token.lower() not in stopwords  # Stopwords removals\n",
        "        #]\n",
        "  #stemmed_train_text = \" \".join(stemmed_tokens)\n",
        "  #x_train_text_stemmed.append(stemmed_train_text)\n",
        "\n",
        "for el in x_validation_text_processed:\n",
        "  stemmed_tokens = [\n",
        "            lancaster.stem(token.lower())  # Stemming\n",
        "            for token in word_tokenize(el)  # Tokenize\n",
        "            if token.lower() not in stopwords  # Stopwords removals\n",
        "        ]\n",
        "  x_validation_text_stemmed.append(stemmed_token)\n",
        "  print(x_validation_text_tokenized[1] + \"\\n---------------------------------------------------------\\n\")\n",
        "  print(x_validation_text_stemmed[1])\n",
        "\n",
        "#for el in x_test_text_processed:\n",
        "  #stemmed_tokens = [\n",
        "            #lancaster.stem(token.lower())  # Stemming\n",
        "            #for token in word_tokenize(el)  # Tokenize\n",
        "            #if token.lower() not in stopwords  # Stopwords removals\n",
        "        #]\n",
        "  #stemmed_test_text = \" \".join(stemmed_tokens)\n",
        "  #x_test_text_stemmed.append(stemmed_test_text)"
      ],
      "metadata": {
        "id": "PU1cRTXTWtv9"
      },
      "execution_count": null,
      "outputs": []
    },
    {
      "cell_type": "code",
      "source": [
        "# LEMMATIZATION\n",
        "\n",
        "from nltk import WordNetLemmatizer\n",
        "nltk.download('wordnet') # Download the wordnet resource\n",
        "\n",
        "# create an object of class LancasterStemmer\n",
        "wnet_lemma = WordNetLemmatizer()\n",
        "\n",
        "#for el in x_train_text_processed:\n",
        "  #lemma_tokens = [\n",
        "            #wnet_lemma.lemmatize(token.lower())  # Lemmatization\n",
        "            #for token in word_tokenize(el)  # Tokenize\n",
        "            #if token.lower() not in stopwords  # Stopwords removals\n",
        "        #]\n",
        "  #stemmed_train_text = \" \".join(stemmed_tokens)\n",
        "  #x_train_text_stemmed.append(stemmed_train_text)"
      ],
      "metadata": {
        "id": "weJcyO5esBtm"
      },
      "execution_count": null,
      "outputs": []
    }
  ]
}